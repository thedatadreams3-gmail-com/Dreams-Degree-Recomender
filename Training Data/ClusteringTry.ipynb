{
 "cells": [
  {
   "cell_type": "code",
   "execution_count": 1,
   "metadata": {},
   "outputs": [],
   "source": [
    "import pandas as pd"
   ]
  },
  {
   "cell_type": "code",
   "execution_count": 2,
   "metadata": {},
   "outputs": [],
   "source": [
    "df = pd.read_csv('cleaned_data_grouped.csv')"
   ]
  },
  {
   "cell_type": "code",
   "execution_count": 3,
   "metadata": {},
   "outputs": [
    {
     "name": "stdout",
     "output_type": "stream",
     "text": [
      "art programming python programming programs programming loops pipes handling recursive algorithms sorting programming programming java similarities programming linear algebra discrete mathematics methodical mathematics logic correspondencies mappings algebraic rings homomorphisms vector linear operators matrices linear equations gauss algorithm computer engineering design analysis hardware boolean algebra minimization logic binary codes arithmetic calculations computers equations flip flops design digital circuits combinational sequential automata microprogramming complex microcomputer lab computer design digital circuits simulation tool simulate analyze digital circuits design evaluate combinatorial sequential digital circuits computer science logic databases query sql specification boolean circuits analysis verification programs logic programming prolog logic computer science logic predicate logic logic equivalence resolution logic sat solvers predicate logic undecidability predicate logic herbrand resolution predicate logic logic programming resolution programming theoretical computer computer science techniques probability calculation probability discrete distributions binomial distribution markov stochastic matrixes hypothesis error programming java python java practical solve programming objectoriented programming architecture design patterns programming graphical controller technique serialisation database jdbc network programming webservices computer science compiler verification modeling handling automata chomsky hierarchy syntax automata pumping lemma equivalence automata decidability verification pumping lemma cyk algorithm automata deterministic decidability xml dtds turing machines abstract data abstract data handling algorithms algorithm syntax semantics specification algorithms algorithms computability algorithms sorting abstract data specification implementation abstract data lists stacks queues binary binary hash algorithms sorting graph algorithms backtracking complex convergence mappings differential integral calculus computability computer science computation np unsolved theoretical computer science computability computability turing machines computability loop goto programs recursive recursive ackermann undecidability reductions np np sat np hardware computer networks technology network hardware computer networks media topologies technology ethernet fx gigabit ethernet fddi atm wireless lan dsl techniques tcp ip ipsec network client server sockets internet dns ftp www software programming software systematic testing software techniques software practical programming programming software software analysis requirements specifications specifications requirements complex patterns software frames software analysis design design implementation architectural design patterns design programs testing software engineering developing software prototype patterns analysis requirements specifications design software architecture patterns machine software artifacts architecture computers processors architectures neumann microprocessors pcs architectures computing data memory register stacks dma cpu interrupts dma bussystems usb pci microarchitecture microprogramming risc cisc processors piplining computer architectures core cpus vector computers clusters grid computing computing programming operational programming programming programming paradigms implementation procedural functional data polymorphism logic programming technologies architectures security communication networks cryptography symmetric asymmetric hash digital authentication proofs safety administration safety architectures software manipulations security lan internet ipsec data tool handling volumes data database theoretical practical database databases database design relational relational query data integrity relational design synchronization security relational databases lab practical handling relational database database schemas integrity complex sql queries database programs web database microsoft windows unix linux requirements computer architectures multiprcessor processsynchronsation semaphores monitors deadlocks communication memory memory memory allocation virtual memory paging segmentation cache file security file files files implementations devices controllers optimization multiprocessor os multiprocessor multicomputer os security authentication attacks buffer overflow classification os project unity practical theoretical practical software hardware software theoretical software informatics mathematics innovative prototypically software project art programming python programming programs programming loops pipes handling recursive algorithms sorting programming programming java similarities programming linear algebra discrete mathematics methodical mathematics logic correspondencies mappings algebraic rings homomorphisms vector linear operators matrices linear equations gauss algorithm computer engineering design analysis hardware boolean algebra minimization logic binary codes arithmetic calculations computers equations flip flops design digital circuits combinational sequential automata microprogramming complex microcomputer lab computer design digital circuits simulation tool simulate analyze digital circuits design evaluate combinatorial sequential digital circuits computer science logic databases query sql specification boolean circuits analysis verification programs logic programming prolog logic computer science logic predicate logic logic equivalence resolution logic sat solvers predicate logic undecidability predicate logic herbrand resolution predicate logic logic programming resolution programming theoretical computer computer science techniques programming java python java practical solve programming objectoriented programming architecture design patterns programming graphical controller technique serialisation database jdbc network programming webservices computer science compiler verification modeling handling automata chomsky hierarchy syntax automata pumping lemma equivalence automata decidability verification pumping lemma cyk algorithm automata deterministic decidability xml dtds turing machines abstract data abstract data handling algorithms algorithm syntax semantics specification algorithms algorithms computability algorithms sorting abstract data specification implementation abstract data lists stacks queues binary binary hash algorithms sorting graph algorithms backtracking complex convergence mappings differential integral calculus computability computer science computation np unsolved theoretical computer science computability computability turing machines computability loop goto programs recursive recursive ackermann undecidability reductions np np sat np hardware computer networks technology network hardware computer networks media topologies technology ethernet fx gigabit ethernet fddi atm wireless lan dsl techniques tcp ip ipsec network client server sockets internet dns ftp www probability calculation probability discrete distributions binomial distribution markov stochastic matrixes hypothesis error software programming software systematic testing software techniques software practical programming programming software software analysis requirements specifications specifications requirements complex patterns software frames software analysis design design implementation architectural design patterns design programs testing software engineering developing software prototype patterns analysis requirements specifications design software architecture patterns machine software artifacts architecture computers processors architectures neumann microprocessors pcs architectures computing data memory register stacks dma cpu interrupts dma bussystems usb pci microarchitecture microprogramming risc cisc processors piplining computer architectures core cpus vector computers clusters grid computing computing programming operational programming programming programming paradigms implementation procedural functional data polymorphism logic programming technologies architectures security communication networks cryptography symmetric asymmetric hash digital authentication proofs safety administration safety architectures software manipulations security lan internet ipsec data tool handling volumes data database theoretical practical database databases database design relational relational query data integrity relational design synchronization security relational databases lab practical handling relational database database schemas integrity complex sql queries database programs web database microsoft windows unix linux requirements computer architectures multiprcessor processsynchronsation semaphores monitors deadlocks communication memory memory memory allocation virtual memory paging segmentation cache file security file files files implementations devices controllers optimization multiprocessor os multiprocessor multicomputer os security authentication attacks buffer overflow classification os project unity practical theoretical practical software hardware software theoretical software informatics mathematics innovative prototypically software project\n"
     ]
    }
   ],
   "source": [
    "print(df.iloc[1]['Description'])"
   ]
  },
  {
   "cell_type": "code",
   "execution_count": 4,
   "metadata": {},
   "outputs": [
    {
     "data": {
      "text/html": [
       "<div>\n",
       "<style scoped>\n",
       "    .dataframe tbody tr th:only-of-type {\n",
       "        vertical-align: middle;\n",
       "    }\n",
       "\n",
       "    .dataframe tbody tr th {\n",
       "        vertical-align: top;\n",
       "    }\n",
       "\n",
       "    .dataframe thead th {\n",
       "        text-align: right;\n",
       "    }\n",
       "</style>\n",
       "<table border=\"1\" class=\"dataframe\">\n",
       "  <thead>\n",
       "    <tr style=\"text-align: right;\">\n",
       "      <th></th>\n",
       "      <th>Study Program</th>\n",
       "      <th>Description</th>\n",
       "    </tr>\n",
       "  </thead>\n",
       "  <tbody>\n",
       "    <tr>\n",
       "      <th>0</th>\n",
       "      <td>B.Sc. Applied Cognitive and Media Science  PO1...</td>\n",
       "      <td>phenomena theories neurobiological psychology ...</td>\n",
       "    </tr>\n",
       "    <tr>\n",
       "      <th>1</th>\n",
       "      <td>B.Sc. Applied Computer Sience  PO19 - B-AI-19</td>\n",
       "      <td>art programming python programming programs pr...</td>\n",
       "    </tr>\n",
       "    <tr>\n",
       "      <th>2</th>\n",
       "      <td>B.Sc. Civil Engineering  PO19 - B-BIW-19</td>\n",
       "      <td>internal mechanical metric linear algebra anal...</td>\n",
       "    </tr>\n",
       "    <tr>\n",
       "      <th>3</th>\n",
       "      <td>B.Sc. Computer Engineering (Communications)  P...</td>\n",
       "      <td>computer engineering design analysis hardware ...</td>\n",
       "    </tr>\n",
       "    <tr>\n",
       "      <th>4</th>\n",
       "      <td>B.Sc. Computer Engineering (Software Engineeri...</td>\n",
       "      <td>computer engineering design analysis hardware ...</td>\n",
       "    </tr>\n",
       "  </tbody>\n",
       "</table>\n",
       "</div>"
      ],
      "text/plain": [
       "                                       Study Program  \\\n",
       "0  B.Sc. Applied Cognitive and Media Science  PO1...   \n",
       "1      B.Sc. Applied Computer Sience  PO19 - B-AI-19   \n",
       "2           B.Sc. Civil Engineering  PO19 - B-BIW-19   \n",
       "3  B.Sc. Computer Engineering (Communications)  P...   \n",
       "4  B.Sc. Computer Engineering (Software Engineeri...   \n",
       "\n",
       "                                         Description  \n",
       "0  phenomena theories neurobiological psychology ...  \n",
       "1  art programming python programming programs pr...  \n",
       "2  internal mechanical metric linear algebra anal...  \n",
       "3  computer engineering design analysis hardware ...  \n",
       "4  computer engineering design analysis hardware ...  "
      ]
     },
     "execution_count": 4,
     "metadata": {},
     "output_type": "execute_result"
    }
   ],
   "source": [
    "df.head()"
   ]
  },
  {
   "cell_type": "code",
   "execution_count": 5,
   "metadata": {},
   "outputs": [
    {
     "name": "stdout",
     "output_type": "stream",
     "text": [
      "['ablation', 'absorber', 'absorbers', 'absorption', 'abstract', 'ac', 'accounts', 'accumulators', 'accuracy', 'acid', 'acids', 'ackermann', 'acoustic', 'acoustical', 'activation', 'activies', 'activities', 'activity', 'actuators', 'adaptation', 'adder', 'adjacency', 'administration', 'adsorption', 'adsorptive', 'agglomeration', 'ai', 'air', 'ajax', 'aktuatorik', 'alembert', 'algebra', 'algebraic', 'algorithm', 'algorithmic', 'algorithms', 'allocation', 'alloy', 'alloyed', 'alloying', 'alsi', 'amino', 'amorphous', 'amount', 'amplifier', 'amplifiers', 'amplitude', 'analog', 'analyse', 'analysis', 'analysispart', 'analytic', 'analytical', 'analytics', 'analyze', 'analyzed', 'analyzing', 'anatomic', 'anatomical', 'anatomy', 'anesthesiology', 'angelika', 'angle', 'angles', 'angular', 'animation', 'anionic', 'annual', 'ante', 'antennas', 'antiderivatives', 'apparatus', 'applicability', 'applicable', 'approximation', 'arange', 'archetypes', 'architectural', 'architecture', 'architectures', 'arcs', 'arithmetic', 'arithmetics', 'arrangements', 'arrays', 'arrhenius', 'art', 'artifacts', 'artificial', 'arts', 'ashby', 'aspartate', 'asphalt', 'assembling', 'assess', 'assessments', 'assets', 'assistant', 'assumptions', 'asymmetric', 'asynchronous', 'atm', 'atom', 'atomic', 'atomistic', 'atomistically', 'atoms', 'attacks', 'audit', 'auditory', 'auger', 'authentication', 'autocorrelation', 'automata', 'automation', 'autonomic', 'autonomously', 'auxiliary', 'availability', 'axes', 'axial', 'axiomatic', 'axioms', 'axles', 'bacher', 'backgroundseparation', 'backtracking', 'backup', 'balancing', 'ballistic', 'bandwidth', 'barrages', 'batch', 'bathen', 'baumgarte', 'bayes', 'beam', 'beat', 'behaviour', 'belt', 'berger', 'bernoulli', 'bevel', 'bfs', 'bifurcations', 'binary', 'binomial', 'bio', 'biochemistry', 'biological', 'biology', 'biomechanics', 'biomedical', 'biosynthesis', 'bipolar', 'bitmap', 'blast', 'blockade', 'blood', 'blown', 'boiler', 'bolt', 'bolted', 'bolts', 'boolean', 'bosch', 'bottum', 'box', 'brakes', 'braking', 'branching', 'breakable', 'breakdown', 'brinell', 'brownian', 'buckling', 'budgeting', 'buffer', 'bug', 'bulk', 'bussystems', 'butterworth', 'bvp', 'byproducts', 'cables', 'cache', 'cadp', 'calculate', 'calculating', 'calculation', 'calculations', 'calculus', 'calibration', 'calls', 'canonical', 'capabilities', 'capacitance', 'capacitive', 'capacitors', 'capacity', 'capillarity', 'capillary', 'capital', 'carbohydrates', 'carbon', 'cardiac', 'care', 'cartesian', 'cast', 'casting', 'catalysis', 'catalytical', 'cathodoluminescence', 'cationic', 'cauchy', 'ccd', 'cell', 'cells', 'cellular', 'centrifugal', 'centroids', 'ceramic', 'ceramics', 'changes', 'characters', 'charpy', 'chart', 'charts', 'chatelier', 'chemical', 'chemically', 'chemistry', 'chi', 'cholesky', 'chomsky', 'chp', 'circuit', 'circuits', 'circulation', 'ciruits', 'cisc', 'citric', 'claening', 'clapeyron', 'classification', 'classified', 'cleaning', 'client', 'clinical', 'cluskey', 'clustering', 'clusters', 'clutch', 'cmos', 'coagulation', 'coating', 'codes', 'coding', 'codings', 'coefficient', 'coefficients', 'coenzymes', 'cognitive', 'coherences', 'cold', 'collar', 'collars', 'collectors', 'colligative', 'collision', 'color', 'colors', 'colour', 'column', 'columns', 'combinational', 'combinatorial', 'combinatorics', 'combustion', 'communicated', 'communication', 'communications', 'comparators', 'competitors', 'compiler', 'complex', 'complicated', 'composites', 'compounds', 'compressible', 'compression', 'compressor', 'compressors', 'comprising', 'computability', 'computation', 'computed', 'computer', 'computers', 'computing', 'concavity', 'concentrates', 'conceptional', 'condensation', 'condensed', 'conditional', 'conditionin', 'conductance', 'conductivity', 'cone', 'confidence', 'configuration', 'configurations', 'confined', 'confocal', 'conformation', 'connected', 'conseqeuntly', 'constant', 'constituents', 'constitution', 'constructors', 'consumption', 'contibutors', 'continous', 'continuation', 'continuum', 'contour', 'contribute', 'controlled', 'controller', 'controllers', 'controlling', 'conventional', 'convergence', 'converter', 'converters', 'convexity', 'cooling', 'cooperating', 'cooperation', 'coordinate', 'coordinates', 'coordination', 'core', 'corners', 'correct', 'correcting', 'correlation', 'correspondencies', 'corrosion', 'counter', 'counting', 'covalent', 'covariance', 'cpu', 'cpus', 'cracking', 'crank', 'creation', 'creativity', 'creeping', 'criterion', 'cryptographie', 'cryptography', 'crystal', 'crystalline', 'crystallinity', 'crystallisation', 'crystallographic', 'crystallography', 'crystals', 'css', 'ct', 'curvature', 'curve', 'curves', 'curvilinear', 'customer', 'cutting', 'cvd', 'cyanide', 'cyclical', 'cyk', 'cyl', 'cylindrical', 'cytokines', 'cytoskeleton', 'dae', 'damage', 'dams', 'data', 'database', 'databases', 'dataflow', 'db', 'dc', 'ddl', 'deadlocks', 'decidability', 'decions', 'decomposition', 'defects', 'definite', 'deflection', 'deformability', 'deformations', 'degassing', 'delta', 'delve', 'density', 'deoxidise', 'dependently', 'derivative', 'derivatives', 'descption', 'descriptive', 'descriptors', 'design', 'designed', 'designing', 'designs', 'desktop', 'desorption', 'destillation', 'destructors', 'desulphurization', 'detection', 'deterioration', 'determinants', 'determinats', 'deterministic', 'developing', 'devices', 'dew', 'dfb', 'dfs', 'diagnosis', 'diagnostic', 'diagnostics', 'diagramms', 'diameter', 'diameters', 'die', 'dielectric', 'dies', 'diesel', 'dieter', 'diffentiator', 'differential', 'differentiation', 'differetial', 'diffraction', 'diffration', 'diffusion', 'digestion', 'digestive', 'digital', 'dilatation', 'dimension', 'dimensional', 'dimensioning', 'dimensions', 'dimorphism', 'dinger', 'diode', 'diodes', 'dirac', 'discharge', 'discrete', 'discretization', 'discussions', 'disorder', 'disperse', 'dispersion', 'dispersions', 'dispersity', 'displacements', 'dissolved', 'distance', 'distillation', 'distributed', 'distribution', 'distributions', 'disturbance', 'divergence', 'divides', 'division', 'dma', 'dml', 'dna', 'dns', 'dnssec', 'domestic', 'donors', 'dos', 'dowels', 'drainage', 'drains', 'draw', 'drawing', 'drawings', 'dsl', 'dtds', 'ductility', 'ducts', 'dust', 'dymola', 'dynamic', 'dynamical', 'dynamics', 'earth', 'earthworks', 'ebeam', 'eccentric', 'ecl', 'ecologocal', 'economic', 'economical', 'economics', 'economicspart', 'economy', 'edges', 'eels', 'efficient', 'efficienvy', 'eigenvalue', 'eigenvalues', 'eigenvectors', 'elastic', 'elasticity', 'elastostatics', 'electric', 'electrical', 'electrically', 'electricity', 'electrochemical', 'electrochemistry', 'electrodeposition', 'electrolysis', 'electromagnetic', 'electron', 'electronic', 'electronics', 'electrons', 'electrophoresis', 'electrostatic', 'electrostatics', 'elemental', 'ellipsometry', 'embedded', 'emboss', 'emc', 'emission', 'emissions', 'emotion', 'emphases', 'emphasized', 'empirical', 'employees', 'encapsulation', 'encompasses', 'encompassing', 'endocrine', 'endurance', 'energetic', 'energetics', 'engine', 'engineer', 'engineering', 'engineers', 'engines', 'english', 'enregy', 'entering', 'enthalpie', 'enthalpies', 'entity', 'entropy', 'enzyme', 'enzymes', 'epicyclical', 'epitaxy', 'epsilon', 'equation', 'equations', 'equilibria', 'equilibrium', 'equity', 'equivalence', 'er', 'erosion', 'error', 'errors', 'estimates', 'estimators', 'ethernet', 'ethics', 'euler', 'evaluate', 'evaluations', 'evalutate', 'evaporation', 'evolution', 'evolutionary', 'exaplined', 'excel', 'exchanger', 'excitation', 'exergy', 'experiment', 'experimental', 'experimentally', 'experiments', 'explanation', 'exploration', 'exponential', 'expression', 'exterior', 'external', 'extraction', 'extractive', 'extrema', 'extrusion', 'fabrication', 'factor', 'factorial', 'factorization', 'failure', 'faraday', 'fatigue', 'faultfinding', 'faults', 'fddi', 'feasibility', 'feature', 'feedstock', 'ferri', 'ferro', 'ferroelectric', 'fet', 'fibre', 'file', 'files', 'filter', 'filtering', 'filterplants', 'filtration', 'finance', 'financial', 'financing', 'firewall', 'firewalls', 'firm', 'fixed', 'fixpoints', 'flame', 'flashover', 'flex', 'flexural', 'flip', 'flood', 'flop', 'flops', 'flowcharts', 'flue', 'fluid', 'fluids', 'fonts', 'food', 'forging', 'formalia', 'formatted', 'forming', 'formula', 'formulas', 'fossil', 'fourier', 'fracture', 'frame', 'frames', 'framework', 'french', 'freqeuncy', 'frequencies', 'frequency', 'frictional', 'ftp', 'fuel', 'fuels', 'fugure', 'functional', 'functionalities', 'functionality', 'functioning', 'furnace', 'fx', 'galvanic', 'gas', 'gases', 'gastrointestinal', 'gau', 'gauss', 'gearbox', 'geared', 'gears', 'gel', 'gene', 'generalization', 'generating', 'generator', 'generators', 'generic', 'genetic', 'genetics', 'geometrical', 'geometrically', 'geometry', 'geotechnical', 'german', 'gestural', 'getter', 'gibbs', 'gigabit', 'girders', 'global', 'glued', 'gmr', 'goods', 'goto', 'government', 'governmental', 'grain', 'graph', 'graphic', 'graphical', 'graphics', 'gravity', 'grid', 'gross', 'groundwater', 'growth', 'gui', 'guidance', 'guldin', 'gyroscopic', 'hamilton', 'hamiltonean', 'handling', 'hands', 'hardening', 'hardware', 'hartness', 'hash', 'health', 'heap', 'heart', 'heat', 'heinzel', 'heisenberg', 'helmholtz', 'helmhotz', 'hemostasis', 'henrian', 'herbrand', 'herpolhode', 'heterogeneous', 'heterostructure', 'heterostructures', 'heyland', 'hfet', 'hierarchical', 'hierarchies', 'hierarchy', 'hilbert', 'histological', 'histology', 'hit', 'hochfrequenztechnik', 'hodograph', 'hollow', 'holomorphic', 'homework', 'homeworks', 'homogeneous', 'homomorphisms', 'hormones', 'hospital', 'hot', 'html', 'http', 'hub', 'hubs', 'human', 'humid', 'humidity', 'hunger', 'hybrid', 'hydration', 'hydraulic', 'hydraulics', 'hydro', 'hydrodynamics', 'hydrogen', 'hydrological', 'hydrology', 'hydropower', 'hydrostatic', 'hydrostatics', 'hyperbolic', 'hypergeometric', 'hypertext', 'hypotheses', 'hypothesis', 'idealized', 'iii', 'illnesses', 'image', 'images', 'imaging', 'imap', 'immune', 'imparting', 'impedance', 'implement', 'implementation', 'implementations', 'implementing', 'implications', 'impulse', 'impulses', 'impurities', 'inbound', 'inclusion', 'inclusions', 'income', 'incomplete', 'incompressible', 'indefinite', 'independant', 'index', 'indexes', 'indispensable', 'inductors', 'inelastic', 'inert', 'inertia', 'infinite', 'infinitely', 'informatics', 'infrared', 'ingenieurmathematik', 'ingot', 'injection', 'innovation', 'innovative', 'instantaneous', 'instincts', 'instrumentation', 'insulation', 'insulators', 'intact', 'integer', 'integral', 'integrals', 'integrator', 'integrity', 'intelligence', 'intelligent', 'intensity', 'interactions', 'interactive', 'interactivity', 'interband', 'interdisciplinary', 'interface', 'intermolecular', 'internal', 'international', 'internet', 'interpolation', 'interpret', 'interpretation', 'interrelations', 'interrupts', 'intervals', 'interventions', 'intracellular', 'intranet', 'invasive', 'inventory', 'inverse', 'inverses', 'inverter', 'inverting', 'ion', 'ions', 'ip', 'ipo', 'ipsec', 'ir', 'irc', 'iron', 'irons', 'irradiation', 'iso', 'isolated', 'isolation', 'isolators', 'issue', 'issues', 'items', 'iteration', 'iterative', 'iv', 'ivp', 'jacobi', 'jacobian', 'java', 'javascript', 'jdbc', 'jfet', 'job', 'joining', 'jointing', 'joints', 'junction', 'kardan', 'karnaugh', 'kelvin', 'keying', 'kidneys', 'kinematic', 'kinematics', 'kinetic', 'kinetics', 'kinetiks', 'kirchhoff', 'knee', 'kolmogoroff', 'kolmogorov', 'konservation', 'kronig', 'lab', 'labcourse', 'labor', 'laboratory', 'labs', 'labview', 'lagrange', 'laminated', 'lan', 'laplace', 'laser', 'lasers', 'laterial', 'lattices', 'laurent', 'laws', 'layered', 'learning', 'leds', 'leed', 'lemma', 'lenses', 'letters', 'levers', 'liabililty', 'liberalized', 'libraries', 'lifecycle', 'light', 'limiter', 'linear', 'linearization', 'linux', 'lipid', 'lipids', 'liquid', 'liquids', 'lists', 'lithography', 'lng', 'loading', 'loads', 'lock', 'locus', 'log', 'logarithm', 'logic', 'logical', 'logig', 'logistics', 'loop', 'loops', 'lu', 'lubricants', 'lubrication', 'lv', 'machanical', 'machinary', 'machine', 'machinery', 'machines', 'machining', 'macroeconomic', 'macroeconomics', 'macroeconomicspart', 'macromolecule', 'macromolecules', 'macroscopic', 'magnetic', 'magnetical', 'magnetism', 'magnetostatics', 'malate', 'manganese', 'manipulations', 'manual', 'manufacturing', 'mappings', 'margin', 'marine', 'market', 'marketing', 'markets', 'markov', 'maschinenbau', 'mathematical', 'mathematics', 'matlab', 'matrices', 'matrix', 'matrixes', 'maxwell', 'mean', 'means', 'measure', 'measurement', 'measurements', 'measurents', 'measuring', 'measurment', 'mechanic', 'mechanical', 'mechanics', 'mechanincal', 'mechanincs', 'mechanism', 'mechanisms', 'mechatronic', 'mechatronics', 'media', 'median', 'mediator', 'mediators', 'medical', 'medicine', 'medicins', 'melt', 'melted', 'melting', 'melts', 'membrane', 'membranes', 'memories', 'memory', 'mesfet', 'metabolism', 'metal', 'metallic', 'metallurgical', 'metallurgy', 'metals', 'metastable', 'methodical', 'methodological', 'methodologies', 'methodology', 'metric', 'metrology', 'michael', 'micro', 'microanalysis', 'microarchitecture', 'microcomputer', 'microcontroller', 'microeconomical', 'microeconomics', 'microeconomicspart', 'microemulsions', 'microprocessors', 'microprogramming', 'micropscop', 'microscopic', 'microscopy', 'microsoft', 'microstructure', 'microwave', 'mime', 'mineral', 'minimization', 'mining', 'mirror', 'mirrors', 'miss', 'mitochondria', 'mixed', 'mobile', 'modal', 'modalities', 'modality', 'modeling', 'moderator', 'modes', 'modification', 'modifications', 'modify', 'modular', 'modularity', 'modularization', 'modulation', 'modulus', 'moist', 'moisture', 'molar', 'mold', 'mole', 'molecular', 'molecularity', 'moles', 'molten', 'moments', 'momentum', 'monitors', 'monoids', 'monomer', 'moore', 'morphological', 'mortar', 'mosfet', 'motion', 'motions', 'moulding', 'moule', 'mover', 'movers', 'mrft', 'mri', 'mrt', 'multicomputer', 'multidimensional', 'multilevel', 'multimedia', 'multimeters', 'multiplier', 'multipliers', 'multiprcessor', 'multiprocessor', 'multisets', 'multivariate', 'multivibrators', 'muscle', 'musculo', 'musculoskeletal', 'nails', 'naive', 'nano', 'nanoimprinting', 'nanomaterials', 'nanometer', 'nanoparticles', 'nanostructure', 'nanostructures', 'nanotechnology', 'nanotubes', 'navigation', 'neoclassical', 'nernst', 'net', 'network', 'networked', 'networks', 'neumann', 'neuro', 'neuroanatomy', 'neurobiological', 'neurology', 'newton', 'newtonic', 'nitric', 'noise', 'nomenclature', 'nonelectrical', 'nonholonomic', 'noninverting', 'nonlinear', 'normalization', 'noxious', 'np', 'npn', 'nuclear', 'nucleation', 'nucleotide', 'numeric', 'numerical', 'numerous', 'nutation', 'nyquist', 'objectoriented', 'objects', 'ode', 'offices', 'offshore', 'oil', 'oltp', 'oop', 'operate', 'operational', 'operators', 'ophthalmology', 'optical', 'optics', 'optimization', 'optimizing', 'optoelectronic', 'optoelectronics', 'ores', 'organ', 'organizational', 'organs', 'orthogonality', 'os', 'oscillations', 'oscillator', 'oscillators', 'osmosis', 'ossana', 'outbound', 'outcoupling', 'overflow', 'oxidation', 'oxidizing', 'oxygen', 'paging', 'panglisch', 'pappus', 'parabolic', 'paradigms', 'parameter', 'parameters', 'parametric', 'particle', 'particles', 'patents', 'pathways', 'patterning', 'patterns', 'pc', 'pci', 'pcs', 'pde', 'pelletizing', 'peltier', 'penney', 'perception', 'periodic', 'peripheral', 'permittivity', 'permutation', 'permutations', 'perpetuum', 'pet', 'pharmaceutical', 'phasor', 'phenomena', 'phenomenological', 'phenomenon', 'phonons', 'photodiodes', 'photoelectric', 'photoelectron', 'photolumisecence', 'photometric', 'photometry', 'photon', 'photonics', 'photons', 'photovoltaic', 'physical', 'physico', 'physics', 'physiology', 'picking', 'piezoelectricity', 'pilot', 'pinion', 'pipes', 'piping', 'piplining', 'piston', 'pivots', 'place', 'planning', 'plants', 'plasmas', 'plastic', 'plasticity', 'plastics', 'plasticssoft', 'plates', 'plots', 'plug', 'pnp', 'pointers', 'poisson', 'polar', 'polarization', 'pole', 'polhode', 'policy', 'pollutant', 'polymer', 'polymerase', 'polymerization', 'polymers', 'polymorphism', 'polynom', 'polynomial', 'polynomials', 'polynoms', 'pore', 'porous', 'port', 'ports', 'positron', 'practical', 'practically', 'precession', 'precipitation', 'precipization', 'precise', 'predicate', 'prediction', 'predictions', 'premixed', 'preprocessing', 'preprocessor', 'prerequisites', 'prescription', 'press', 'presses', 'pricing', 'prism', 'probabilistic', 'probability', 'probe', 'probes', 'procedural', 'processor', 'processors', 'processsynchronsation', 'procreation', 'producing', 'product', 'production', 'products', 'profitability', 'programmable', 'programmed', 'programming', 'programs', 'project', 'projection', 'projections', 'prolog', 'proof', 'proofs', 'propedeutics', 'propulsion', 'protected', 'protection', 'protections', 'protein', 'proteins', 'prototype', 'prototypically', 'prozess', 'pseudoinverse', 'psychological', 'psychology', 'psychophysiological', 'pulmonary', 'pump', 'pumping', 'pumps', 'purification', 'python', 'quadrat', 'quadrature', 'qualitymanagement', 'quantities', 'quantized', 'quantum', 'queries', 'query', 'queue', 'queueing', 'queues', 'queuing', 'quizzes', 'quotation', 'quotients', 'radial', 'radiated', 'radiation', 'radical', 'radio', 'radioactivity', 'radiology', 'radiometric', 'radius', 'raft', 'rails', 'ral', 'raman', 'raoultian', 'raphson', 'ratio', 'ray', 'rdbms', 'reacting', 'reactions', 'reactive', 'reactor', 'reactors', 'reading', 'realisation', 'recovery', 'recrystalliation', 'recrystallisation', 'rectification', 'rectifier', 'recursive', 'recycling', 'reducing', 'reduction', 'reductions', 'referential', 'refineries', 'refinery', 'refining', 'refraction', 'refrigeration', 'regenerative', 'regime', 'register', 'regression', 'regulation', 'regulations', 'regulatory', 'rehabilitation', 'relational', 'relativistic', 'remote', 'reporting', 'requirements', 'residence', 'residue', 'resist', 'resistance', 'resistances', 'resistant', 'resistive', 'resistors', 'resolution', 'resonance', 'resonant', 'respiration', 'respiratory', 'restoration', 'restrictions', 'retroactive', 'rgb', 'rheed', 'rheological', 'rheology', 'rings', 'risc', 'river', 'robotics', 'rockwell', 'rod', 'roll', 'roller', 'rope', 'rotary', 'rotating', 'rotations', 'routing', 'rsp', 'rutherford', 'safety', 'sanitary', 'sat', 'saving', 'scale', 'scanning', 'scattering', 'sceletal', 'schemas', 'schmitt', 'scholarly', 'schottky', 'schr', 'science', 'sciences', 'scientific', 'scientifically', 'screw', 'screws', 'scrubber', 'sealing', 'secant', 'sectors', 'security', 'seebeck', 'segmentation', 'segmenting', 'segregation', 'seidel', 'selectivity', 'semantics', 'semaphores', 'semiconductor', 'semiconductors', 'sense', 'sensor', 'sensoric', 'sensorik', 'sensors', 'separate', 'separation', 'separators', 'seperation', 'sequential', 'serialisation', 'server', 'servers', 'session', 'setter', 'sewer', 'sewers', 'sexual', 'sexuality', 'shaft', 'shafts', 'shape', 'shearing', 'shears', 'shell', 'shot', 'shrink', 'shrinkage', 'shuttle', 'siemens', 'signal', 'signalling', 'signals', 'silicon', 'similarities', 'similarity', 'simplifying', 'sims', 'simulate', 'simulation', 'simulations', 'simulink', 'singular', 'singularities', 'sintering', 'sinus', 'sinusoidal', 'sizing', 'sketches', 'skin', 'slab', 'slag', 'slags', 'slope', 'smirnov', 'smirnow', 'smoothing', 'smtp', 'snell', 'societal', 'socket', 'sockets', 'software', 'softwares', 'soil', 'soils', 'solar', 'solgel', 'solidification', 'solidworks', 'solution', 'solutions', 'solve', 'solvers', 'solving', 'solvothermal', 'sort', 'sorting', 'sound', 'spam', 'spanning', 'sparse', 'spatial', 'specification', 'specifications', 'spect', 'spectral', 'spectroscopy', 'spektroscopy', 'sphere', 'spherical', 'spin', 'spline', 'spread', 'spring', 'springs', 'sql', 'square', 'stability', 'stabilization', 'stack', 'stacks', 'static', 'statically', 'statics', 'statistical', 'statistics', 'steam', 'steel', 'steels', 'stefan', 'stiff', 'stochastic', 'stoehr', 'stoichiometry', 'storage', 'storm', 'stormwater', 'strains', 'strategic', 'strategy', 'stream', 'streamtube', 'stretch', 'strings', 'stripper', 'stripping', 'strips', 'stroke', 'structural', 'structuring', 'subdivided', 'subdued', 'substances', 'superconductors', 'supersaturation', 'supervision', 'surgery', 'switchgear', 'symbols', 'symmetric', 'synchronization', 'synchronous', 'synonym', 'syntax', 'synthesis', 'systematic', 'systematically', 'systematics', 'systemdynamics', 'tachograph', 'tactile', 'tangent', 'tangible', 'tank', 'tariffs', 'taylor', 'tcp', 'team', 'teams', 'teamwork', 'technical', 'technically', 'technique', 'techniques', 'technological', 'technologies', 'technology', 'tectronix', 'teeth', 'teil', 'telegraph', 'telnet', 'temperature', 'temprature', 'tensile', 'tensions', 'ternary', 'testing', 'texture', 'theit', 'theoretical', 'theoretically', 'theories', 'thermal', 'thermo', 'thermochemistry', 'thermodynamic', 'thermodynamical', 'thermodynamics', 'thermoelectricity', 'thicknesses', 'throttle', 'thumb', 'thyristors', 'tips', 'tissue', 'titration', 'tmr', 'tolerability', 'tolerance', 'tolerances', 'tomography', 'tool', 'toolboxes', 'tools', 'topicsoft', 'topographically', 'topologies', 'torsion', 'torsional', 'touch', 'trace', 'traceability', 'tract', 'train', 'transactions', 'transcription', 'transfomers', 'transformation', 'transformations', 'transformers', 'transients', 'transistor', 'transistors', 'transitions', 'transmissions', 'trapezoidal', 'traversal', 'treatments', 'trigonometric', 'ttl', 'tube', 'tunneling', 'tunnelling', 'turbine', 'turbines', 'turbo', 'turbulent', 'turing', 'turnover', 'twist', 'twoports', 'ultrasound', 'undamped', 'undecidability', 'underflow', 'uniaxial', 'unity', 'unix', 'unsolved', 'unsymmetrical', 'urban', 'urogenital', 'usability', 'usb', 'usenet', 'utrasonic', 'vacancies', 'vacuum', 'validation', 'valuation', 'van', 'vapor', 'vapors', 'vapour', 'variety', 'vba', 'vdi', 'vector', 'vectorfields', 'vectorisation', 'vectors', 'vehicle', 'velocity', 'verbal', 'verification', 'verifications', 'versatile', 'vessel', 'vi', 'vibration', 'vibrations', 'vickers', 'video', 'vii', 'virtual', 'viscosimetry', 'viscosity', 'viscous', 'visibility', 'visit', 'visual', 'visualisation', 'visualization', 'vitamins', 'viz', 'voc', 'voltage', 'voltages', 'volume', 'volumes', 'waals', 'walls', 'warehouse', 'warehouses', 'wastewater', 'water', 'wave', 'waves', 'wear', 'web', 'webservices', 'weighing', 'weldability', 'welded', 'welding', 'wet', 'wheatstone', 'wheel', 'wheels', 'windows', 'wire', 'wireless', 'wood', 'woods', 'workload', 'workstations', 'worldwide', 'wrench', 'writing', 'www', 'xhtml', 'xml']\n"
     ]
    }
   ],
   "source": [
    "from sklearn.feature_extraction.text import TfidfTransformer\n",
    "from sklearn.feature_extraction.text import TfidfVectorizer\n",
    "from sklearn.feature_extraction.text import CountVectorizer\n",
    "from sklearn.pipeline import Pipeline\n",
    "import numpy as np\n",
    "\n",
    "# from nltk.corpus import stopwords\n",
    "# stop = list(stopwords.words('english'))\n",
    "# stop.extend('systems system develop developed development 0s 10 100basetx 10base2 10base5 10baset11 12 13 14 15 16 1st 2000 2221 2d 2nd 32 3d 500 74 8580 10baset 11'.split())\n",
    "\n",
    "\n",
    "\n",
    "# vectorizer = TfidfVectorizer(analyzer = 'word',stop_words=set(stop))\n",
    "vectorizer = TfidfVectorizer(analyzer = 'word')\n",
    "X= vectorizer.fit_transform(df['Description'])\n",
    "print (vectorizer.get_feature_names())\n"
   ]
  },
  {
   "cell_type": "code",
   "execution_count": 6,
   "metadata": {},
   "outputs": [
    {
     "name": "stdout",
     "output_type": "stream",
     "text": [
      "  (0, 1570)\t0.022113749209113492\n",
      "  (0, 918)\t0.028429096588437626\n",
      "  (0, 1613)\t0.009870820219298995\n",
      "  (0, 1443)\t0.01745955547534389\n",
      "  (0, 748)\t0.013765314079411643\n",
      "  (0, 1297)\t0.019492643225721605\n",
      "  (0, 994)\t0.011611547474109174\n",
      "  (0, 1371)\t0.013177295846397468\n",
      "  (0, 1397)\t0.028429096588437626\n",
      "  (0, 518)\t0.028787832869041345\n",
      "  (0, 1229)\t0.04754980570933605\n",
      "  (0, 1828)\t0.05685819317687525\n",
      "  (0, 1210)\t0.03318234591396381\n",
      "  (0, 1176)\t0.0950996114186721\n",
      "  (0, 922)\t0.06424667596873974\n",
      "  (0, 720)\t0.06424667596873974\n",
      "  (0, 734)\t0.03159680365957872\n",
      "  (0, 1703)\t0.01974164043859799\n",
      "  (0, 1689)\t0.06424667596873974\n",
      "  (0, 1747)\t0.06424667596873974\n",
      "  (0, 433)\t0.03318234591396381\n",
      "  (0, 871)\t0.1284933519374795\n",
      "  (0, 1683)\t0.05161598121009148\n",
      "  (0, 793)\t0.13268249525468095\n",
      "  (0, 613)\t0.022288416192039508\n",
      "  :\t:\n",
      "  (23, 610)\t0.07934126803344597\n",
      "  (23, 1038)\t0.07031966505679835\n",
      "  (23, 31)\t0.033780831605701556\n",
      "  (23, 973)\t0.06756166321140311\n",
      "  (23, 450)\t0.019835317008361494\n",
      "  (23, 285)\t0.10979259508885228\n",
      "  (23, 49)\t0.11823291061995544\n",
      "  (23, 1303)\t0.04487797217387201\n",
      "  (23, 418)\t0.25335623704276167\n",
      "  (23, 1372)\t0.043051536476752625\n",
      "  (23, 569)\t0.10134249481710467\n",
      "  (23, 1790)\t0.044074491352734876\n",
      "  (23, 1614)\t0.058574920712861495\n",
      "  (23, 1805)\t0.07319506339256819\n",
      "  (23, 751)\t0.017579916264199587\n",
      "  (23, 1336)\t0.042226039507126945\n",
      "  (23, 35)\t0.02744814877221307\n",
      "  (23, 1370)\t0.035159832528399174\n",
      "  (23, 391)\t0.052739748792598753\n",
      "  (23, 1182)\t0.057148723803399096\n",
      "  (23, 280)\t0.01396775287091934\n",
      "  (23, 457)\t0.07619829840453213\n",
      "  (23, 297)\t0.035159832528399174\n",
      "  (23, 1610)\t0.022438986086936005\n",
      "  (23, 1066)\t0.04574691462035512\n"
     ]
    }
   ],
   "source": [
    "print (X)"
   ]
  },
  {
   "cell_type": "code",
   "execution_count": 7,
   "metadata": {},
   "outputs": [
    {
     "data": {
      "text/plain": [
       "array([0, 0, 2, 0, 0, 0, 0, 0, 0, 1, 2, 1, 1, 1, 1, 1, 1, 1, 1, 0, 3, 0,\n",
       "       3, 2])"
      ]
     },
     "execution_count": 7,
     "metadata": {},
     "output_type": "execute_result"
    }
   ],
   "source": [
    "from sklearn.cluster import KMeans\n",
    "\n",
    "kmeans= KMeans(n_clusters=4, random_state=64).fit(X)\n",
    "kmeans.labels_"
   ]
  },
  {
   "cell_type": "code",
   "execution_count": 8,
   "metadata": {},
   "outputs": [
    {
     "data": {
      "text/plain": [
       "array([[0.00370667, 0.        , 0.        , ..., 0.01288375, 0.00642467,\n",
       "        0.01265572],\n",
       "       [0.        , 0.00343161, 0.01015602, ..., 0.        , 0.        ,\n",
       "        0.        ],\n",
       "       [0.        , 0.        , 0.        , ..., 0.        , 0.        ,\n",
       "        0.        ],\n",
       "       [0.        , 0.        , 0.        , ..., 0.        , 0.        ,\n",
       "        0.        ]])"
      ]
     },
     "execution_count": 8,
     "metadata": {},
     "output_type": "execute_result"
    }
   ],
   "source": [
    "kmeans.cluster_centers_"
   ]
  },
  {
   "cell_type": "code",
   "execution_count": 9,
   "metadata": {
    "scrolled": false
   },
   "outputs": [],
   "source": [
    "# Y = vectorizer.transform([\"IT engineer digital technology principles circuit design computer architecture basic programming and operating systems\"])\n",
    "# prediction = kmeans.predict(Y)\n",
    "# print(prediction)"
   ]
  },
  {
   "cell_type": "markdown",
   "metadata": {},
   "source": [
    "# Adding Cluster Label to Dataframe"
   ]
  },
  {
   "cell_type": "code",
   "execution_count": 10,
   "metadata": {},
   "outputs": [
    {
     "data": {
      "text/html": [
       "<div>\n",
       "<style scoped>\n",
       "    .dataframe tbody tr th:only-of-type {\n",
       "        vertical-align: middle;\n",
       "    }\n",
       "\n",
       "    .dataframe tbody tr th {\n",
       "        vertical-align: top;\n",
       "    }\n",
       "\n",
       "    .dataframe thead th {\n",
       "        text-align: right;\n",
       "    }\n",
       "</style>\n",
       "<table border=\"1\" class=\"dataframe\">\n",
       "  <thead>\n",
       "    <tr style=\"text-align: right;\">\n",
       "      <th></th>\n",
       "      <th>Study Program</th>\n",
       "      <th>Description</th>\n",
       "      <th>Cluster</th>\n",
       "    </tr>\n",
       "  </thead>\n",
       "  <tbody>\n",
       "    <tr>\n",
       "      <th>0</th>\n",
       "      <td>B.Sc. Applied Cognitive and Media Science  PO1...</td>\n",
       "      <td>phenomena theories neurobiological psychology ...</td>\n",
       "      <td>0</td>\n",
       "    </tr>\n",
       "    <tr>\n",
       "      <th>1</th>\n",
       "      <td>B.Sc. Applied Computer Sience  PO19 - B-AI-19</td>\n",
       "      <td>art programming python programming programs pr...</td>\n",
       "      <td>0</td>\n",
       "    </tr>\n",
       "    <tr>\n",
       "      <th>2</th>\n",
       "      <td>B.Sc. Civil Engineering  PO19 - B-BIW-19</td>\n",
       "      <td>internal mechanical metric linear algebra anal...</td>\n",
       "      <td>2</td>\n",
       "    </tr>\n",
       "    <tr>\n",
       "      <th>3</th>\n",
       "      <td>B.Sc. Computer Engineering (Communications)  P...</td>\n",
       "      <td>computer engineering design analysis hardware ...</td>\n",
       "      <td>0</td>\n",
       "    </tr>\n",
       "    <tr>\n",
       "      <th>4</th>\n",
       "      <td>B.Sc. Computer Engineering (Software Engineeri...</td>\n",
       "      <td>computer engineering design analysis hardware ...</td>\n",
       "      <td>0</td>\n",
       "    </tr>\n",
       "    <tr>\n",
       "      <th>5</th>\n",
       "      <td>B.Sc. Electrical Engineering and Information T...</td>\n",
       "      <td>electrical engineering electric magnetic spati...</td>\n",
       "      <td>0</td>\n",
       "    </tr>\n",
       "    <tr>\n",
       "      <th>6</th>\n",
       "      <td>B.Sc. Electrical and Electronic Engineering  P...</td>\n",
       "      <td>computer engineering design analysis hardware ...</td>\n",
       "      <td>0</td>\n",
       "    </tr>\n",
       "    <tr>\n",
       "      <th>7</th>\n",
       "      <td>B.Sc. Industrial Engineering (Electrical Power...</td>\n",
       "      <td>coherences entering transactions drawing elect...</td>\n",
       "      <td>0</td>\n",
       "    </tr>\n",
       "    <tr>\n",
       "      <th>8</th>\n",
       "      <td>B.Sc. Industrial Engineering (Information Tech...</td>\n",
       "      <td>coherences entering transactions drawing elect...</td>\n",
       "      <td>0</td>\n",
       "    </tr>\n",
       "    <tr>\n",
       "      <th>9</th>\n",
       "      <td>B.Sc. Industrial Engineering (Mechanical Engin...</td>\n",
       "      <td>coherences entering transactions drawing topic...</td>\n",
       "      <td>1</td>\n",
       "    </tr>\n",
       "    <tr>\n",
       "      <th>10</th>\n",
       "      <td>B.Sc. Lehramt Berufskolleg Bautechnik (große b...</td>\n",
       "      <td>internal mechanical metric linear algebra anal...</td>\n",
       "      <td>2</td>\n",
       "    </tr>\n",
       "    <tr>\n",
       "      <th>11</th>\n",
       "      <td>B.Sc. Mechanical Engineering  PO19 - B-ME-19</td>\n",
       "      <td>topicsoft periodic hydrogen chemical intermole...</td>\n",
       "      <td>1</td>\n",
       "    </tr>\n",
       "    <tr>\n",
       "      <th>12</th>\n",
       "      <td>B.Sc. Mechanical Engineering (Casting Engineer...</td>\n",
       "      <td>topicsoft periodic hydrogen chemical intermole...</td>\n",
       "      <td>1</td>\n",
       "    </tr>\n",
       "    <tr>\n",
       "      <th>13</th>\n",
       "      <td>B.Sc. Mechanical Engineering (Energy and Proce...</td>\n",
       "      <td>topicsoft periodic hydrogen chemical intermole...</td>\n",
       "      <td>1</td>\n",
       "    </tr>\n",
       "    <tr>\n",
       "      <th>14</th>\n",
       "      <td>B.Sc. Mechanical Engineering (General Mechanic...</td>\n",
       "      <td>topicsoft periodic hydrogen chemical intermole...</td>\n",
       "      <td>1</td>\n",
       "    </tr>\n",
       "    <tr>\n",
       "      <th>15</th>\n",
       "      <td>B.Sc. Mechanical Engineering (Mechatronics)  P...</td>\n",
       "      <td>topicsoft periodic hydrogen chemical intermole...</td>\n",
       "      <td>1</td>\n",
       "    </tr>\n",
       "    <tr>\n",
       "      <th>16</th>\n",
       "      <td>B.Sc. Mechanical Engineering (Metallurgy and M...</td>\n",
       "      <td>topicsoft periodic hydrogen chemical intermole...</td>\n",
       "      <td>1</td>\n",
       "    </tr>\n",
       "    <tr>\n",
       "      <th>17</th>\n",
       "      <td>B.Sc. Mechanical Engineering (Product Engineer...</td>\n",
       "      <td>topicsoft periodic hydrogen chemical intermole...</td>\n",
       "      <td>1</td>\n",
       "    </tr>\n",
       "    <tr>\n",
       "      <th>18</th>\n",
       "      <td>B.Sc. Mechanical Engineering (Ship and Offshor...</td>\n",
       "      <td>computer engineering design analysis hardware ...</td>\n",
       "      <td>1</td>\n",
       "    </tr>\n",
       "    <tr>\n",
       "      <th>19</th>\n",
       "      <td>B.Sc. Medical Engineering  PO19 - B-MedT-19</td>\n",
       "      <td>propedeutics anatomy musculoskeletal histology...</td>\n",
       "      <td>0</td>\n",
       "    </tr>\n",
       "    <tr>\n",
       "      <th>20</th>\n",
       "      <td>B.Sc. Metallurgy and Metal Forming  PO19 - B-M...</td>\n",
       "      <td>computer engineering design analysis hardware ...</td>\n",
       "      <td>3</td>\n",
       "    </tr>\n",
       "    <tr>\n",
       "      <th>21</th>\n",
       "      <td>B.Sc. NanoEngineering  PO19 - B-Nano-19</td>\n",
       "      <td>computer engineering design analysis hardware ...</td>\n",
       "      <td>0</td>\n",
       "    </tr>\n",
       "    <tr>\n",
       "      <th>22</th>\n",
       "      <td>B.Sc. Steel Technology and Metal Forming  PO15...</td>\n",
       "      <td>chemistry atomic periodic chemical chemical th...</td>\n",
       "      <td>3</td>\n",
       "    </tr>\n",
       "    <tr>\n",
       "      <th>23</th>\n",
       "      <td>B.Sc. Structural Engineering  PO19 - B-SE-19</td>\n",
       "      <td>computer engineering design analysis hardware ...</td>\n",
       "      <td>2</td>\n",
       "    </tr>\n",
       "  </tbody>\n",
       "</table>\n",
       "</div>"
      ],
      "text/plain": [
       "                                        Study Program  \\\n",
       "0   B.Sc. Applied Cognitive and Media Science  PO1...   \n",
       "1       B.Sc. Applied Computer Sience  PO19 - B-AI-19   \n",
       "2            B.Sc. Civil Engineering  PO19 - B-BIW-19   \n",
       "3   B.Sc. Computer Engineering (Communications)  P...   \n",
       "4   B.Sc. Computer Engineering (Software Engineeri...   \n",
       "5   B.Sc. Electrical Engineering and Information T...   \n",
       "6   B.Sc. Electrical and Electronic Engineering  P...   \n",
       "7   B.Sc. Industrial Engineering (Electrical Power...   \n",
       "8   B.Sc. Industrial Engineering (Information Tech...   \n",
       "9   B.Sc. Industrial Engineering (Mechanical Engin...   \n",
       "10  B.Sc. Lehramt Berufskolleg Bautechnik (große b...   \n",
       "11       B.Sc. Mechanical Engineering  PO19 - B-ME-19   \n",
       "12  B.Sc. Mechanical Engineering (Casting Engineer...   \n",
       "13  B.Sc. Mechanical Engineering (Energy and Proce...   \n",
       "14  B.Sc. Mechanical Engineering (General Mechanic...   \n",
       "15  B.Sc. Mechanical Engineering (Mechatronics)  P...   \n",
       "16  B.Sc. Mechanical Engineering (Metallurgy and M...   \n",
       "17  B.Sc. Mechanical Engineering (Product Engineer...   \n",
       "18  B.Sc. Mechanical Engineering (Ship and Offshor...   \n",
       "19        B.Sc. Medical Engineering  PO19 - B-MedT-19   \n",
       "20  B.Sc. Metallurgy and Metal Forming  PO19 - B-M...   \n",
       "21            B.Sc. NanoEngineering  PO19 - B-Nano-19   \n",
       "22  B.Sc. Steel Technology and Metal Forming  PO15...   \n",
       "23       B.Sc. Structural Engineering  PO19 - B-SE-19   \n",
       "\n",
       "                                          Description  Cluster  \n",
       "0   phenomena theories neurobiological psychology ...        0  \n",
       "1   art programming python programming programs pr...        0  \n",
       "2   internal mechanical metric linear algebra anal...        2  \n",
       "3   computer engineering design analysis hardware ...        0  \n",
       "4   computer engineering design analysis hardware ...        0  \n",
       "5   electrical engineering electric magnetic spati...        0  \n",
       "6   computer engineering design analysis hardware ...        0  \n",
       "7   coherences entering transactions drawing elect...        0  \n",
       "8   coherences entering transactions drawing elect...        0  \n",
       "9   coherences entering transactions drawing topic...        1  \n",
       "10  internal mechanical metric linear algebra anal...        2  \n",
       "11  topicsoft periodic hydrogen chemical intermole...        1  \n",
       "12  topicsoft periodic hydrogen chemical intermole...        1  \n",
       "13  topicsoft periodic hydrogen chemical intermole...        1  \n",
       "14  topicsoft periodic hydrogen chemical intermole...        1  \n",
       "15  topicsoft periodic hydrogen chemical intermole...        1  \n",
       "16  topicsoft periodic hydrogen chemical intermole...        1  \n",
       "17  topicsoft periodic hydrogen chemical intermole...        1  \n",
       "18  computer engineering design analysis hardware ...        1  \n",
       "19  propedeutics anatomy musculoskeletal histology...        0  \n",
       "20  computer engineering design analysis hardware ...        3  \n",
       "21  computer engineering design analysis hardware ...        0  \n",
       "22  chemistry atomic periodic chemical chemical th...        3  \n",
       "23  computer engineering design analysis hardware ...        2  "
      ]
     },
     "execution_count": 10,
     "metadata": {},
     "output_type": "execute_result"
    }
   ],
   "source": [
    "df['Cluster'] = kmeans.labels_\n",
    "df"
   ]
  },
  {
   "cell_type": "code",
   "execution_count": 11,
   "metadata": {},
   "outputs": [
    {
     "name": "stdout",
     "output_type": "stream",
     "text": [
      "B.Sc. Computer Engineering (Communications)  PO19 - B-CE(Com)-19\n"
     ]
    }
   ],
   "source": [
    "\n",
    "\n",
    "temp=df['Study Program'][3]\n",
    "print (temp)\n"
   ]
  },
  {
   "cell_type": "code",
   "execution_count": 12,
   "metadata": {},
   "outputs": [
    {
     "name": "stdout",
     "output_type": "stream",
     "text": [
      "B.Sc. Applied Cognitive and Media Science  PO19 - B-KM-19\n",
      "B.Sc. Applied Computer Sience  PO19 - B-AI-19\n",
      "B.Sc. Computer Engineering (Communications)  PO19 - B-CE(Com)-19\n",
      "B.Sc. Computer Engineering (Software Engineering)  PO19 - B-CE(SE)-19\n",
      "B.Sc. Electrical Engineering and Information Technology  PO19 - B-EIT-19\n",
      "B.Sc. Electrical and Electronic Engineering  PO19 - B-EEE-19\n",
      "B.Sc. Industrial Engineering (Electrical Power Technology and Management)  PO19 - B-WI(EET)-19\n",
      "B.Sc. Industrial Engineering (Information Technology and Management)  PO19 - B-WI(IT)-19\n",
      "B.Sc. Medical Engineering  PO19 - B-MedT-19\n",
      "B.Sc. NanoEngineering  PO19 - B-Nano-19\n"
     ]
    }
   ],
   "source": [
    "cl=0\n",
    "\n",
    "for index, row in df.iterrows():\n",
    "    if(temp in row['Study Program']):\n",
    "        cl=row['Cluster']\n",
    "        break\n",
    "\n",
    "for index, row in df.iterrows():\n",
    "        if (row['Cluster'] == cl) :\n",
    "            print (row['Study Program'])\n",
    "        #else:\n",
    "            \n",
    "        "
   ]
  },
  {
   "cell_type": "code",
   "execution_count": null,
   "metadata": {},
   "outputs": [],
   "source": []
  },
  {
   "cell_type": "markdown",
   "metadata": {},
   "source": [
    "# Exporting Kmeans and Vectorizer to Pickle"
   ]
  },
  {
   "cell_type": "code",
   "execution_count": 13,
   "metadata": {},
   "outputs": [],
   "source": [
    "import pickle\n",
    "\n",
    "pickle.dump(kmeans, open('clusterRecommender.pkl','wb'))\n",
    "pickle.dump(vectorizer, open(\"clusterVectorizer.pkl\", \"wb\"))\n",
    "pickle.dump(df, open(\"dfCluster.pkl\", \"wb\"))"
   ]
  },
  {
   "cell_type": "code",
   "execution_count": null,
   "metadata": {},
   "outputs": [],
   "source": []
  },
  {
   "cell_type": "code",
   "execution_count": null,
   "metadata": {},
   "outputs": [],
   "source": []
  },
  {
   "cell_type": "code",
   "execution_count": null,
   "metadata": {},
   "outputs": [],
   "source": []
  }
 ],
 "metadata": {
  "kernelspec": {
   "display_name": "Python 3",
   "language": "python",
   "name": "python3"
  },
  "language_info": {
   "codemirror_mode": {
    "name": "ipython",
    "version": 3
   },
   "file_extension": ".py",
   "mimetype": "text/x-python",
   "name": "python",
   "nbconvert_exporter": "python",
   "pygments_lexer": "ipython3",
   "version": "3.8.5"
  }
 },
 "nbformat": 4,
 "nbformat_minor": 4
}
