{
 "cells": [
  {
   "cell_type": "code",
   "execution_count": 1,
   "metadata": {},
   "outputs": [],
   "source": [
    "import pandas as pd"
   ]
  },
  {
   "cell_type": "code",
   "execution_count": 2,
   "metadata": {},
   "outputs": [],
   "source": [
    "df = pd.read_csv('cleaned_data.csv')"
   ]
  },
  {
   "cell_type": "code",
   "execution_count": 3,
   "metadata": {},
   "outputs": [
    {
     "name": "stdout",
     "output_type": "stream",
     "text": [
      "computer science technologies media digital computer communication networks internet data web xhtml css programming web programming algorithms data modeling database\n"
     ]
    }
   ],
   "source": [
    "print(df.iloc[1]['Description'])"
   ]
  },
  {
   "cell_type": "code",
   "execution_count": 4,
   "metadata": {},
   "outputs": [
    {
     "data": {
      "text/html": [
       "<div>\n",
       "<style scoped>\n",
       "    .dataframe tbody tr th:only-of-type {\n",
       "        vertical-align: middle;\n",
       "    }\n",
       "\n",
       "    .dataframe tbody tr th {\n",
       "        vertical-align: top;\n",
       "    }\n",
       "\n",
       "    .dataframe thead th {\n",
       "        text-align: right;\n",
       "    }\n",
       "</style>\n",
       "<table border=\"1\" class=\"dataframe\">\n",
       "  <thead>\n",
       "    <tr style=\"text-align: right;\">\n",
       "      <th></th>\n",
       "      <th>Study Program</th>\n",
       "      <th>Courses</th>\n",
       "      <th>Description</th>\n",
       "    </tr>\n",
       "  </thead>\n",
       "  <tbody>\n",
       "    <tr>\n",
       "      <th>0</th>\n",
       "      <td>B.Sc. Applied Cognitive and Media Science  PO1...</td>\n",
       "      <td>General Psychology: Perception  Cognition and ...</td>\n",
       "      <td>phenomena theories neurobiological psychology ...</td>\n",
       "    </tr>\n",
       "    <tr>\n",
       "      <th>1</th>\n",
       "      <td>B.Sc. Applied Cognitive and Media Science  PO1...</td>\n",
       "      <td>Informatische Grundlagen neuer Medien und Komm...</td>\n",
       "      <td>computer science technologies media digital co...</td>\n",
       "    </tr>\n",
       "    <tr>\n",
       "      <th>2</th>\n",
       "      <td>B.Sc. Applied Cognitive and Media Science  PO1...</td>\n",
       "      <td>Statistics I: Introduction to research methods</td>\n",
       "      <td>psychology empirical data dispersion correlati...</td>\n",
       "    </tr>\n",
       "    <tr>\n",
       "      <th>3</th>\n",
       "      <td>B.Sc. Applied Cognitive and Media Science  PO1...</td>\n",
       "      <td>Business Law</td>\n",
       "      <td>NaN</td>\n",
       "    </tr>\n",
       "    <tr>\n",
       "      <th>4</th>\n",
       "      <td>B.Sc. Applied Cognitive and Media Science  PO1...</td>\n",
       "      <td>Digital Media</td>\n",
       "      <td>multimedia digital media digital hardware netw...</td>\n",
       "    </tr>\n",
       "  </tbody>\n",
       "</table>\n",
       "</div>"
      ],
      "text/plain": [
       "                                       Study Program  \\\n",
       "0  B.Sc. Applied Cognitive and Media Science  PO1...   \n",
       "1  B.Sc. Applied Cognitive and Media Science  PO1...   \n",
       "2  B.Sc. Applied Cognitive and Media Science  PO1...   \n",
       "3  B.Sc. Applied Cognitive and Media Science  PO1...   \n",
       "4  B.Sc. Applied Cognitive and Media Science  PO1...   \n",
       "\n",
       "                                             Courses  \\\n",
       "0  General Psychology: Perception  Cognition and ...   \n",
       "1  Informatische Grundlagen neuer Medien und Komm...   \n",
       "2     Statistics I: Introduction to research methods   \n",
       "3                                       Business Law   \n",
       "4                                      Digital Media   \n",
       "\n",
       "                                         Description  \n",
       "0  phenomena theories neurobiological psychology ...  \n",
       "1  computer science technologies media digital co...  \n",
       "2  psychology empirical data dispersion correlati...  \n",
       "3                                                NaN  \n",
       "4  multimedia digital media digital hardware netw...  "
      ]
     },
     "execution_count": 4,
     "metadata": {},
     "output_type": "execute_result"
    }
   ],
   "source": [
    "df.head()"
   ]
  },
  {
   "cell_type": "code",
   "execution_count": 5,
   "metadata": {},
   "outputs": [
    {
     "data": {
      "text/html": [
       "<div>\n",
       "<style scoped>\n",
       "    .dataframe tbody tr th:only-of-type {\n",
       "        vertical-align: middle;\n",
       "    }\n",
       "\n",
       "    .dataframe tbody tr th {\n",
       "        vertical-align: top;\n",
       "    }\n",
       "\n",
       "    .dataframe thead th {\n",
       "        text-align: right;\n",
       "    }\n",
       "</style>\n",
       "<table border=\"1\" class=\"dataframe\">\n",
       "  <thead>\n",
       "    <tr style=\"text-align: right;\">\n",
       "      <th></th>\n",
       "      <th>Study Program</th>\n",
       "      <th>Courses</th>\n",
       "      <th>Description</th>\n",
       "    </tr>\n",
       "  </thead>\n",
       "  <tbody>\n",
       "    <tr>\n",
       "      <th>0</th>\n",
       "      <td>B.Sc. Applied Cognitive and Media Science  PO1...</td>\n",
       "      <td>General Psychology: Perception  Cognition and ...</td>\n",
       "      <td>phenomena theories neurobiological psychology ...</td>\n",
       "    </tr>\n",
       "    <tr>\n",
       "      <th>1</th>\n",
       "      <td>B.Sc. Applied Cognitive and Media Science  PO1...</td>\n",
       "      <td>Informatische Grundlagen neuer Medien und Komm...</td>\n",
       "      <td>computer science technologies media digital co...</td>\n",
       "    </tr>\n",
       "    <tr>\n",
       "      <th>2</th>\n",
       "      <td>B.Sc. Applied Cognitive and Media Science  PO1...</td>\n",
       "      <td>Statistics I: Introduction to research methods</td>\n",
       "      <td>psychology empirical data dispersion correlati...</td>\n",
       "    </tr>\n",
       "    <tr>\n",
       "      <th>3</th>\n",
       "      <td>B.Sc. Applied Cognitive and Media Science  PO1...</td>\n",
       "      <td>Business Law</td>\n",
       "      <td>NaN</td>\n",
       "    </tr>\n",
       "    <tr>\n",
       "      <th>4</th>\n",
       "      <td>B.Sc. Applied Cognitive and Media Science  PO1...</td>\n",
       "      <td>Digital Media</td>\n",
       "      <td>multimedia digital media digital hardware netw...</td>\n",
       "    </tr>\n",
       "    <tr>\n",
       "      <th>...</th>\n",
       "      <td>...</td>\n",
       "      <td>...</td>\n",
       "      <td>...</td>\n",
       "    </tr>\n",
       "    <tr>\n",
       "      <th>1842</th>\n",
       "      <td>B.Sc. Structural Engineering  PO19 - B-SE-19</td>\n",
       "      <td>Urban Water Management 1 / Chemistry - Fundame...</td>\n",
       "      <td>chemistry water water analysis water sanitary ...</td>\n",
       "    </tr>\n",
       "    <tr>\n",
       "      <th>1843</th>\n",
       "      <td>B.Sc. Structural Engineering  PO19 - B-SE-19</td>\n",
       "      <td>Bachelor Thesis (ISE)</td>\n",
       "      <td>scientific engineering sciences autonomously s...</td>\n",
       "    </tr>\n",
       "    <tr>\n",
       "      <th>1844</th>\n",
       "      <td>B.Sc. Structural Engineering  PO19 - B-SE-19</td>\n",
       "      <td>Bachelor-Thesis Colloquium</td>\n",
       "      <td>discussions</td>\n",
       "    </tr>\n",
       "    <tr>\n",
       "      <th>1845</th>\n",
       "      <td>B.Sc. Structural Engineering  PO19 - B-SE-19</td>\n",
       "      <td>Industrial Internship</td>\n",
       "      <td>implement</td>\n",
       "    </tr>\n",
       "    <tr>\n",
       "      <th>1846</th>\n",
       "      <td>B.Sc. Structural Engineering  PO19 - B-SE-19</td>\n",
       "      <td>Water Engineering 1</td>\n",
       "      <td>hydraulics hydrology water water engineering d...</td>\n",
       "    </tr>\n",
       "  </tbody>\n",
       "</table>\n",
       "<p>1847 rows × 3 columns</p>\n",
       "</div>"
      ],
      "text/plain": [
       "                                          Study Program  \\\n",
       "0     B.Sc. Applied Cognitive and Media Science  PO1...   \n",
       "1     B.Sc. Applied Cognitive and Media Science  PO1...   \n",
       "2     B.Sc. Applied Cognitive and Media Science  PO1...   \n",
       "3     B.Sc. Applied Cognitive and Media Science  PO1...   \n",
       "4     B.Sc. Applied Cognitive and Media Science  PO1...   \n",
       "...                                                 ...   \n",
       "1842       B.Sc. Structural Engineering  PO19 - B-SE-19   \n",
       "1843       B.Sc. Structural Engineering  PO19 - B-SE-19   \n",
       "1844       B.Sc. Structural Engineering  PO19 - B-SE-19   \n",
       "1845       B.Sc. Structural Engineering  PO19 - B-SE-19   \n",
       "1846       B.Sc. Structural Engineering  PO19 - B-SE-19   \n",
       "\n",
       "                                                Courses  \\\n",
       "0     General Psychology: Perception  Cognition and ...   \n",
       "1     Informatische Grundlagen neuer Medien und Komm...   \n",
       "2        Statistics I: Introduction to research methods   \n",
       "3                                          Business Law   \n",
       "4                                         Digital Media   \n",
       "...                                                 ...   \n",
       "1842  Urban Water Management 1 / Chemistry - Fundame...   \n",
       "1843                              Bachelor Thesis (ISE)   \n",
       "1844                         Bachelor-Thesis Colloquium   \n",
       "1845                              Industrial Internship   \n",
       "1846                                Water Engineering 1   \n",
       "\n",
       "                                            Description  \n",
       "0     phenomena theories neurobiological psychology ...  \n",
       "1     computer science technologies media digital co...  \n",
       "2     psychology empirical data dispersion correlati...  \n",
       "3                                                   NaN  \n",
       "4     multimedia digital media digital hardware netw...  \n",
       "...                                                 ...  \n",
       "1842  chemistry water water analysis water sanitary ...  \n",
       "1843  scientific engineering sciences autonomously s...  \n",
       "1844                                        discussions  \n",
       "1845                                          implement  \n",
       "1846  hydraulics hydrology water water engineering d...  \n",
       "\n",
       "[1847 rows x 3 columns]"
      ]
     },
     "execution_count": 5,
     "metadata": {},
     "output_type": "execute_result"
    }
   ],
   "source": [
    "df"
   ]
  },
  {
   "cell_type": "code",
   "execution_count": 6,
   "metadata": {
    "scrolled": true
   },
   "outputs": [
    {
     "name": "stdout",
     "output_type": "stream",
     "text": [
      "vectors equation linear motion elastic inelastic collision oscillations waves oscillations waves acoustic waves sound intensity sound db scale optics geometrical optics prism lenses mirror snell light imaging relativistic\n"
     ]
    }
   ],
   "source": [
    "print (df['Description'][118])"
   ]
  },
  {
   "cell_type": "code",
   "execution_count": 7,
   "metadata": {},
   "outputs": [
    {
     "name": "stdout",
     "output_type": "stream",
     "text": [
      "['ablation', 'absorber', 'absorbers', 'absorption', 'abstract', 'ac', 'accounts', 'accumulators', 'accuracy', 'acid', 'acids', 'ackermann', 'acoustic', 'acoustical', 'activation', 'activies', 'activities', 'activity', 'actuators', 'adaptation', 'adder', 'adjacency', 'administration', 'adsorption', 'adsorptive', 'agglomeration', 'ai', 'air', 'ajax', 'aktuatorik', 'alembert', 'algebra', 'algebraic', 'algorithm', 'algorithmic', 'algorithms', 'allocation', 'alloy', 'alloyed', 'alloying', 'alsi', 'amino', 'amorphous', 'amount', 'amplifier', 'amplifiers', 'amplitude', 'analog', 'analyse', 'analysis', 'analysispart', 'analytic', 'analytical', 'analytics', 'analyze', 'analyzed', 'analyzing', 'anatomic', 'anatomical', 'anatomy', 'anesthesiology', 'angelika', 'angle', 'angles', 'angular', 'animation', 'anionic', 'annual', 'ante', 'antennas', 'antiderivatives', 'apparatus', 'applicability', 'applicable', 'approximation', 'arange', 'archetypes', 'architectural', 'architecture', 'architectures', 'arcs', 'arithmetic', 'arithmetics', 'arrangements', 'arrays', 'arrhenius', 'art', 'artifacts', 'artificial', 'arts', 'ashby', 'aspartate', 'asphalt', 'assembling', 'assess', 'assessments', 'assets', 'assistant', 'assumptions', 'asymmetric', 'asynchronous', 'atm', 'atom', 'atomic', 'atomistic', 'atomistically', 'atoms', 'attacks', 'audit', 'auditory', 'auger', 'authentication', 'autocorrelation', 'automata', 'automation', 'autonomic', 'autonomously', 'auxiliary', 'availability', 'axes', 'axial', 'axiomatic', 'axioms', 'axles', 'bacher', 'backgroundseparation', 'backtracking', 'backup', 'balancing', 'ballistic', 'bandwidth', 'barrages', 'batch', 'bathen', 'baumgarte', 'bayes', 'beam', 'beat', 'behaviour', 'belt', 'berger', 'bernoulli', 'bevel', 'bfs', 'bifurcations', 'binary', 'binomial', 'bio', 'biochemistry', 'biological', 'biology', 'biomechanics', 'biomedical', 'biosynthesis', 'bipolar', 'bitmap', 'blast', 'blockade', 'blood', 'blown', 'boiler', 'bolt', 'bolted', 'bolts', 'boolean', 'bosch', 'bottum', 'box', 'brakes', 'braking', 'branching', 'breakable', 'breakdown', 'brinell', 'brownian', 'buckling', 'budgeting', 'buffer', 'bug', 'bulk', 'bussystems', 'butterworth', 'bvp', 'byproducts', 'cables', 'cache', 'cadp', 'calculate', 'calculating', 'calculation', 'calculations', 'calculus', 'calibration', 'calls', 'canonical', 'capabilities', 'capacitance', 'capacitive', 'capacitors', 'capacity', 'capillarity', 'capillary', 'capital', 'carbohydrates', 'carbon', 'cardiac', 'care', 'cartesian', 'cast', 'casting', 'catalysis', 'catalytical', 'cathodoluminescence', 'cationic', 'cauchy', 'ccd', 'cell', 'cells', 'cellular', 'centrifugal', 'centroids', 'ceramic', 'ceramics', 'changes', 'characters', 'charpy', 'chart', 'charts', 'chatelier', 'chemical', 'chemically', 'chemistry', 'chi', 'cholesky', 'chomsky', 'chp', 'circuit', 'circuits', 'circulation', 'ciruits', 'cisc', 'citric', 'claening', 'clapeyron', 'classification', 'classified', 'cleaning', 'client', 'clinical', 'cluskey', 'clustering', 'clusters', 'clutch', 'cmos', 'coagulation', 'coating', 'codes', 'coding', 'codings', 'coefficient', 'coefficients', 'coenzymes', 'cognitive', 'coherences', 'cold', 'collar', 'collars', 'collectors', 'colligative', 'collision', 'color', 'colors', 'colour', 'column', 'columns', 'combinational', 'combinatorial', 'combinatorics', 'combustion', 'communicated', 'communication', 'communications', 'comparators', 'competitors', 'compiler', 'complex', 'complicated', 'composites', 'compounds', 'compressible', 'compression', 'compressor', 'compressors', 'comprising', 'computability', 'computation', 'computed', 'computer', 'computers', 'computing', 'concavity', 'concentrates', 'conceptional', 'condensation', 'condensed', 'conditional', 'conditionin', 'conductance', 'conductivity', 'cone', 'confidence', 'configuration', 'configurations', 'confined', 'confocal', 'conformation', 'connected', 'conseqeuntly', 'constant', 'constituents', 'constitution', 'constructors', 'consumption', 'contibutors', 'continous', 'continuation', 'continuum', 'contour', 'contribute', 'controlled', 'controller', 'controllers', 'controlling', 'conventional', 'convergence', 'converter', 'converters', 'convexity', 'cooling', 'cooperating', 'cooperation', 'coordinate', 'coordinates', 'coordination', 'core', 'corners', 'correct', 'correcting', 'correlation', 'correspondencies', 'corrosion', 'counter', 'counting', 'covalent', 'covariance', 'cpu', 'cpus', 'cracking', 'crank', 'creation', 'creativity', 'creeping', 'criterion', 'cryptographie', 'cryptography', 'crystal', 'crystalline', 'crystallinity', 'crystallisation', 'crystallographic', 'crystallography', 'crystals', 'css', 'ct', 'curvature', 'curve', 'curves', 'curvilinear', 'customer', 'cutting', 'cvd', 'cyanide', 'cyclical', 'cyk', 'cyl', 'cylindrical', 'cytokines', 'cytoskeleton', 'dae', 'damage', 'dams', 'data', 'database', 'databases', 'dataflow', 'db', 'dc', 'ddl', 'deadlocks', 'decidability', 'decions', 'decomposition', 'defects', 'definite', 'deflection', 'deformability', 'deformations', 'degassing', 'delta', 'delve', 'density', 'deoxidise', 'dependently', 'derivative', 'derivatives', 'descption', 'descriptive', 'descriptors', 'design', 'designed', 'designing', 'designs', 'desktop', 'desorption', 'destillation', 'destructors', 'desulphurization', 'detection', 'deterioration', 'determinants', 'determinats', 'deterministic', 'developing', 'devices', 'dew', 'dfb', 'dfs', 'diagnosis', 'diagnostic', 'diagnostics', 'diagramms', 'diameter', 'diameters', 'die', 'dielectric', 'dies', 'diesel', 'dieter', 'diffentiator', 'differential', 'differentiation', 'differetial', 'diffraction', 'diffration', 'diffusion', 'digestion', 'digestive', 'digital', 'dilatation', 'dimension', 'dimensional', 'dimensioning', 'dimensions', 'dimorphism', 'dinger', 'diode', 'diodes', 'dirac', 'discharge', 'discrete', 'discretization', 'discussions', 'disorder', 'disperse', 'dispersion', 'dispersions', 'dispersity', 'displacements', 'dissolved', 'distance', 'distillation', 'distributed', 'distribution', 'distributions', 'disturbance', 'divergence', 'divides', 'division', 'dma', 'dml', 'dna', 'dns', 'dnssec', 'domestic', 'donors', 'dos', 'dowels', 'drainage', 'drains', 'draw', 'drawing', 'drawings', 'dsl', 'dtds', 'ductility', 'ducts', 'dust', 'dymola', 'dynamic', 'dynamical', 'dynamics', 'earth', 'earthworks', 'ebeam', 'eccentric', 'ecl', 'ecologocal', 'economic', 'economical', 'economics', 'economicspart', 'economy', 'edges', 'eels', 'efficient', 'efficienvy', 'eigenvalue', 'eigenvalues', 'eigenvectors', 'elastic', 'elasticity', 'elastostatics', 'electric', 'electrical', 'electrically', 'electricity', 'electrochemical', 'electrochemistry', 'electrodeposition', 'electrolysis', 'electromagnetic', 'electron', 'electronic', 'electronics', 'electrons', 'electrophoresis', 'electrostatic', 'electrostatics', 'elemental', 'ellipsometry', 'embedded', 'emboss', 'emc', 'emission', 'emissions', 'emotion', 'emphases', 'emphasized', 'empirical', 'employees', 'encapsulation', 'encompasses', 'encompassing', 'endocrine', 'endurance', 'energetic', 'energetics', 'engine', 'engineer', 'engineering', 'engineers', 'engines', 'english', 'enregy', 'entering', 'enthalpie', 'enthalpies', 'entity', 'entropy', 'enzyme', 'enzymes', 'epicyclical', 'epitaxy', 'epsilon', 'equation', 'equations', 'equilibria', 'equilibrium', 'equity', 'equivalence', 'er', 'erosion', 'error', 'errors', 'estimates', 'estimators', 'ethernet', 'ethics', 'euler', 'evaluate', 'evaluations', 'evalutate', 'evaporation', 'evolution', 'evolutionary', 'exaplined', 'excel', 'exchanger', 'excitation', 'exergy', 'experiment', 'experimental', 'experimentally', 'experiments', 'explanation', 'exploration', 'exponential', 'expression', 'exterior', 'external', 'extraction', 'extractive', 'extrema', 'extrusion', 'fabrication', 'factor', 'factorial', 'factorization', 'failure', 'faraday', 'fatigue', 'faultfinding', 'faults', 'fddi', 'feasibility', 'feature', 'feedstock', 'ferri', 'ferro', 'ferroelectric', 'fet', 'fibre', 'file', 'files', 'filter', 'filtering', 'filterplants', 'filtration', 'finance', 'financial', 'financing', 'firewall', 'firewalls', 'firm', 'fixed', 'fixpoints', 'flame', 'flashover', 'flex', 'flexural', 'flip', 'flood', 'flop', 'flops', 'flowcharts', 'flue', 'fluid', 'fluids', 'fonts', 'food', 'forging', 'formalia', 'formatted', 'forming', 'formula', 'formulas', 'fossil', 'fourier', 'fracture', 'frame', 'frames', 'framework', 'french', 'freqeuncy', 'frequencies', 'frequency', 'frictional', 'ftp', 'fuel', 'fuels', 'fugure', 'functional', 'functionalities', 'functionality', 'functioning', 'furnace', 'fx', 'galvanic', 'gas', 'gases', 'gastrointestinal', 'gau', 'gauss', 'gearbox', 'geared', 'gears', 'gel', 'gene', 'generalization', 'generating', 'generator', 'generators', 'generic', 'genetic', 'genetics', 'geometrical', 'geometrically', 'geometry', 'geotechnical', 'german', 'gestural', 'getter', 'gibbs', 'gigabit', 'girders', 'global', 'glued', 'gmr', 'goods', 'goto', 'government', 'governmental', 'grain', 'graph', 'graphic', 'graphical', 'graphics', 'gravity', 'grid', 'gross', 'groundwater', 'growth', 'gui', 'guidance', 'guldin', 'gyroscopic', 'hamilton', 'hamiltonean', 'handling', 'hands', 'hardening', 'hardware', 'hartness', 'hash', 'health', 'heap', 'heart', 'heat', 'heinzel', 'heisenberg', 'helmholtz', 'helmhotz', 'hemostasis', 'henrian', 'herbrand', 'herpolhode', 'heterogeneous', 'heterostructure', 'heterostructures', 'heyland', 'hfet', 'hierarchical', 'hierarchies', 'hierarchy', 'hilbert', 'histological', 'histology', 'hit', 'hochfrequenztechnik', 'hodograph', 'hollow', 'holomorphic', 'homework', 'homeworks', 'homogeneous', 'homomorphisms', 'hormones', 'hospital', 'hot', 'html', 'http', 'hub', 'hubs', 'human', 'humid', 'humidity', 'hunger', 'hybrid', 'hydration', 'hydraulic', 'hydraulics', 'hydro', 'hydrodynamics', 'hydrogen', 'hydrological', 'hydrology', 'hydropower', 'hydrostatic', 'hydrostatics', 'hyperbolic', 'hypergeometric', 'hypertext', 'hypotheses', 'hypothesis', 'idealized', 'iii', 'illnesses', 'image', 'images', 'imaging', 'imap', 'immune', 'imparting', 'impedance', 'implement', 'implementation', 'implementations', 'implementing', 'implications', 'impulse', 'impulses', 'impurities', 'inbound', 'inclusion', 'inclusions', 'income', 'incomplete', 'incompressible', 'indefinite', 'independant', 'index', 'indexes', 'indispensable', 'inductors', 'inelastic', 'inert', 'inertia', 'infinite', 'infinitely', 'informatics', 'infrared', 'ingenieurmathematik', 'ingot', 'injection', 'innovation', 'innovative', 'instantaneous', 'instincts', 'instrumentation', 'insulation', 'insulators', 'intact', 'integer', 'integral', 'integrals', 'integrator', 'integrity', 'intelligence', 'intelligent', 'intensity', 'interactions', 'interactive', 'interactivity', 'interband', 'interdisciplinary', 'interface', 'intermolecular', 'internal', 'international', 'internet', 'interpolation', 'interpret', 'interpretation', 'interrelations', 'interrupts', 'intervals', 'interventions', 'intracellular', 'intranet', 'invasive', 'inventory', 'inverse', 'inverses', 'inverter', 'inverting', 'ion', 'ions', 'ip', 'ipo', 'ipsec', 'ir', 'irc', 'iron', 'irons', 'irradiation', 'iso', 'isolated', 'isolation', 'isolators', 'issue', 'issues', 'items', 'iteration', 'iterative', 'iv', 'ivp', 'jacobi', 'jacobian', 'java', 'javascript', 'jdbc', 'jfet', 'job', 'joining', 'jointing', 'joints', 'junction', 'kardan', 'karnaugh', 'kelvin', 'keying', 'kidneys', 'kinematic', 'kinematics', 'kinetic', 'kinetics', 'kinetiks', 'kirchhoff', 'knee', 'kolmogoroff', 'kolmogorov', 'konservation', 'kronig', 'lab', 'labcourse', 'labor', 'laboratory', 'labs', 'labview', 'lagrange', 'laminated', 'lan', 'laplace', 'laser', 'lasers', 'laterial', 'lattices', 'laurent', 'laws', 'layered', 'learning', 'leds', 'leed', 'lemma', 'lenses', 'letters', 'levers', 'liabililty', 'liberalized', 'libraries', 'lifecycle', 'light', 'limiter', 'linear', 'linearization', 'linux', 'lipid', 'lipids', 'liquid', 'liquids', 'lists', 'lithography', 'lng', 'loading', 'loads', 'lock', 'locus', 'log', 'logarithm', 'logic', 'logical', 'logig', 'logistics', 'loop', 'loops', 'lu', 'lubricants', 'lubrication', 'lv', 'machanical', 'machinary', 'machine', 'machinery', 'machines', 'machining', 'macroeconomic', 'macroeconomics', 'macroeconomicspart', 'macromolecule', 'macromolecules', 'macroscopic', 'magnetic', 'magnetical', 'magnetism', 'magnetostatics', 'malate', 'manganese', 'manipulations', 'manual', 'manufacturing', 'mappings', 'margin', 'marine', 'market', 'marketing', 'markets', 'markov', 'maschinenbau', 'mathematical', 'mathematics', 'matlab', 'matrices', 'matrix', 'matrixes', 'maxwell', 'mean', 'means', 'measure', 'measurement', 'measurements', 'measurents', 'measuring', 'measurment', 'mechanic', 'mechanical', 'mechanics', 'mechanincal', 'mechanincs', 'mechanism', 'mechanisms', 'mechatronic', 'mechatronics', 'media', 'median', 'mediator', 'mediators', 'medical', 'medicine', 'medicins', 'melt', 'melted', 'melting', 'melts', 'membrane', 'membranes', 'memories', 'memory', 'mesfet', 'metabolism', 'metal', 'metallic', 'metallurgical', 'metallurgy', 'metals', 'metastable', 'methodical', 'methodological', 'methodologies', 'methodology', 'metric', 'metrology', 'michael', 'micro', 'microanalysis', 'microarchitecture', 'microcomputer', 'microcontroller', 'microeconomical', 'microeconomics', 'microeconomicspart', 'microemulsions', 'microprocessors', 'microprogramming', 'micropscop', 'microscopic', 'microscopy', 'microsoft', 'microstructure', 'microwave', 'mime', 'mineral', 'minimization', 'mining', 'mirror', 'mirrors', 'miss', 'mitochondria', 'mixed', 'mobile', 'modal', 'modalities', 'modality', 'modeling', 'moderator', 'modes', 'modification', 'modifications', 'modify', 'modular', 'modularity', 'modularization', 'modulation', 'modulus', 'moist', 'moisture', 'molar', 'mold', 'mole', 'molecular', 'molecularity', 'moles', 'molten', 'moments', 'momentum', 'monitors', 'monoids', 'monomer', 'moore', 'morphological', 'mortar', 'mosfet', 'motion', 'motions', 'moulding', 'moule', 'mover', 'movers', 'mrft', 'mri', 'mrt', 'multicomputer', 'multidimensional', 'multilevel', 'multimedia', 'multimeters', 'multiplier', 'multipliers', 'multiprcessor', 'multiprocessor', 'multisets', 'multivariate', 'multivibrators', 'muscle', 'musculo', 'musculoskeletal', 'nails', 'naive', 'nan', 'nano', 'nanoimprinting', 'nanomaterials', 'nanometer', 'nanoparticles', 'nanostructure', 'nanostructures', 'nanotechnology', 'nanotubes', 'navigation', 'neoclassical', 'nernst', 'net', 'network', 'networked', 'networks', 'neumann', 'neuro', 'neuroanatomy', 'neurobiological', 'neurology', 'newton', 'newtonic', 'nitric', 'noise', 'nomenclature', 'nonelectrical', 'nonholonomic', 'noninverting', 'nonlinear', 'normalization', 'noxious', 'np', 'npn', 'nuclear', 'nucleation', 'nucleotide', 'numeric', 'numerical', 'numerous', 'nutation', 'nyquist', 'objectoriented', 'objects', 'ode', 'offices', 'offshore', 'oil', 'oltp', 'oop', 'operate', 'operational', 'operators', 'ophthalmology', 'optical', 'optics', 'optimization', 'optimizing', 'optoelectronic', 'optoelectronics', 'ores', 'organ', 'organizational', 'organs', 'orthogonality', 'os', 'oscillations', 'oscillator', 'oscillators', 'osmosis', 'ossana', 'outbound', 'outcoupling', 'overflow', 'oxidation', 'oxidizing', 'oxygen', 'paging', 'panglisch', 'pappus', 'parabolic', 'paradigms', 'parameter', 'parameters', 'parametric', 'particle', 'particles', 'patents', 'pathways', 'patterning', 'patterns', 'pc', 'pci', 'pcs', 'pde', 'pelletizing', 'peltier', 'penney', 'perception', 'periodic', 'peripheral', 'permittivity', 'permutation', 'permutations', 'perpetuum', 'pet', 'pharmaceutical', 'phasor', 'phenomena', 'phenomenological', 'phenomenon', 'phonons', 'photodiodes', 'photoelectric', 'photoelectron', 'photolumisecence', 'photometric', 'photometry', 'photon', 'photonics', 'photons', 'photovoltaic', 'physical', 'physico', 'physics', 'physiology', 'picking', 'piezoelectricity', 'pilot', 'pinion', 'pipes', 'piping', 'piplining', 'piston', 'pivots', 'place', 'planning', 'plants', 'plasmas', 'plastic', 'plasticity', 'plastics', 'plasticssoft', 'plates', 'plots', 'plug', 'pnp', 'pointers', 'poisson', 'polar', 'polarization', 'pole', 'polhode', 'policy', 'pollutant', 'polymer', 'polymerase', 'polymerization', 'polymers', 'polymorphism', 'polynom', 'polynomial', 'polynomials', 'polynoms', 'pore', 'porous', 'port', 'ports', 'positron', 'practical', 'practically', 'precession', 'precipitation', 'precipization', 'precise', 'predicate', 'prediction', 'predictions', 'premixed', 'preprocessing', 'preprocessor', 'prerequisites', 'prescription', 'press', 'presses', 'pricing', 'prism', 'probabilistic', 'probability', 'probe', 'probes', 'procedural', 'processor', 'processors', 'processsynchronsation', 'procreation', 'producing', 'product', 'production', 'products', 'profitability', 'programmable', 'programmed', 'programming', 'programs', 'project', 'projection', 'projections', 'prolog', 'proof', 'proofs', 'propedeutics', 'propulsion', 'protected', 'protection', 'protections', 'protein', 'proteins', 'prototype', 'prototypically', 'prozess', 'pseudoinverse', 'psychological', 'psychology', 'psychophysiological', 'pulmonary', 'pump', 'pumping', 'pumps', 'purification', 'python', 'quadrat', 'quadrature', 'qualitymanagement', 'quantities', 'quantized', 'quantum', 'queries', 'query', 'queue', 'queueing', 'queues', 'queuing', 'quizzes', 'quotation', 'quotients', 'radial', 'radiated', 'radiation', 'radical', 'radio', 'radioactivity', 'radiology', 'radiometric', 'radius', 'raft', 'rails', 'ral', 'raman', 'raoultian', 'raphson', 'ratio', 'ray', 'rdbms', 'reacting', 'reactions', 'reactive', 'reactor', 'reactors', 'reading', 'realisation', 'recovery', 'recrystalliation', 'recrystallisation', 'rectification', 'rectifier', 'recursive', 'recycling', 'reducing', 'reduction', 'reductions', 'referential', 'refineries', 'refinery', 'refining', 'refraction', 'refrigeration', 'regenerative', 'regime', 'register', 'regression', 'regulation', 'regulations', 'regulatory', 'rehabilitation', 'relational', 'relativistic', 'remote', 'reporting', 'requirements', 'residence', 'residue', 'resist', 'resistance', 'resistances', 'resistant', 'resistive', 'resistors', 'resolution', 'resonance', 'resonant', 'respiration', 'respiratory', 'restoration', 'restrictions', 'retroactive', 'rgb', 'rheed', 'rheological', 'rheology', 'rings', 'risc', 'river', 'robotics', 'rockwell', 'rod', 'roll', 'roller', 'rope', 'rotary', 'rotating', 'rotations', 'routing', 'rsp', 'rutherford', 'safety', 'sanitary', 'sat', 'saving', 'scale', 'scanning', 'scattering', 'sceletal', 'schemas', 'schmitt', 'scholarly', 'schottky', 'schr', 'science', 'sciences', 'scientific', 'scientifically', 'screw', 'screws', 'scrubber', 'sealing', 'secant', 'sectors', 'security', 'seebeck', 'segmentation', 'segmenting', 'segregation', 'seidel', 'selectivity', 'semantics', 'semaphores', 'semiconductor', 'semiconductors', 'sense', 'sensor', 'sensoric', 'sensorik', 'sensors', 'separate', 'separation', 'separators', 'seperation', 'sequential', 'serialisation', 'server', 'servers', 'session', 'setter', 'sewer', 'sewers', 'sexual', 'sexuality', 'shaft', 'shafts', 'shape', 'shearing', 'shears', 'shell', 'shot', 'shrink', 'shrinkage', 'shuttle', 'siemens', 'signal', 'signalling', 'signals', 'silicon', 'similarities', 'similarity', 'simplifying', 'sims', 'simulate', 'simulation', 'simulations', 'simulink', 'singular', 'singularities', 'sintering', 'sinus', 'sinusoidal', 'sizing', 'sketches', 'skin', 'slab', 'slag', 'slags', 'slope', 'smirnov', 'smirnow', 'smoothing', 'smtp', 'snell', 'societal', 'socket', 'sockets', 'software', 'softwares', 'soil', 'soils', 'solar', 'solgel', 'solidification', 'solidworks', 'solution', 'solutions', 'solve', 'solvers', 'solving', 'solvothermal', 'sort', 'sorting', 'sound', 'spam', 'spanning', 'sparse', 'spatial', 'specification', 'specifications', 'spect', 'spectral', 'spectroscopy', 'spektroscopy', 'sphere', 'spherical', 'spin', 'spline', 'spread', 'spring', 'springs', 'sql', 'square', 'stability', 'stabilization', 'stack', 'stacks', 'static', 'statically', 'statics', 'statistical', 'statistics', 'steam', 'steel', 'steels', 'stefan', 'stiff', 'stochastic', 'stoehr', 'stoichiometry', 'storage', 'storm', 'stormwater', 'strains', 'strategic', 'strategy', 'stream', 'streamtube', 'stretch', 'strings', 'stripper', 'stripping', 'strips', 'stroke', 'structural', 'structuring', 'subdivided', 'subdued', 'substances', 'superconductors', 'supersaturation', 'supervision', 'surgery', 'switchgear', 'symbols', 'symmetric', 'synchronization', 'synchronous', 'synonym', 'syntax', 'synthesis', 'systematic', 'systematically', 'systematics', 'systemdynamics', 'tachograph', 'tactile', 'tangent', 'tangible', 'tank', 'tariffs', 'taylor', 'tcp', 'team', 'teams', 'teamwork', 'technical', 'technically', 'technique', 'techniques', 'technological', 'technologies', 'technology', 'tectronix', 'teeth', 'teil', 'telegraph', 'telnet', 'temperature', 'temprature', 'tensile', 'tensions', 'ternary', 'testing', 'texture', 'theit', 'theoretical', 'theoretically', 'theories', 'thermal', 'thermo', 'thermochemistry', 'thermodynamic', 'thermodynamical', 'thermodynamics', 'thermoelectricity', 'thicknesses', 'throttle', 'thumb', 'thyristors', 'tips', 'tissue', 'titration', 'tmr', 'tolerability', 'tolerance', 'tolerances', 'tomography', 'tool', 'toolboxes', 'tools', 'topicsoft', 'topographically', 'topologies', 'torsion', 'torsional', 'touch', 'trace', 'traceability', 'tract', 'train', 'transactions', 'transcription', 'transfomers', 'transformation', 'transformations', 'transformers', 'transients', 'transistor', 'transistors', 'transitions', 'transmissions', 'trapezoidal', 'traversal', 'treatments', 'trigonometric', 'ttl', 'tube', 'tunneling', 'tunnelling', 'turbine', 'turbines', 'turbo', 'turbulent', 'turing', 'turnover', 'twist', 'twoports', 'ultrasound', 'undamped', 'undecidability', 'underflow', 'uniaxial', 'unity', 'unix', 'unsolved', 'unsymmetrical', 'urban', 'urogenital', 'usability', 'usb', 'usenet', 'utrasonic', 'vacancies', 'vacuum', 'validation', 'valuation', 'van', 'vapor', 'vapors', 'vapour', 'variety', 'vba', 'vdi', 'vector', 'vectorfields', 'vectorisation', 'vectors', 'vehicle', 'velocity', 'verbal', 'verification', 'verifications', 'versatile', 'vessel', 'vi', 'vibration', 'vibrations', 'vickers', 'video', 'vii', 'virtual', 'viscosimetry', 'viscosity', 'viscous', 'visibility', 'visit', 'visual', 'visualisation', 'visualization', 'vitamins', 'viz', 'voc', 'voltage', 'voltages', 'volume', 'volumes', 'waals', 'walls', 'warehouse', 'warehouses', 'wastewater', 'water', 'wave', 'waves', 'wear', 'web', 'webservices', 'weighing', 'weldability', 'welded', 'welding', 'wet', 'wheatstone', 'wheel', 'wheels', 'windows', 'wire', 'wireless', 'wood', 'woods', 'workload', 'workstations', 'worldwide', 'wrench', 'writing', 'www', 'xhtml', 'xml']\n"
     ]
    }
   ],
   "source": [
    "from sklearn.feature_extraction.text import TfidfTransformer\n",
    "from sklearn.feature_extraction.text import TfidfVectorizer\n",
    "from sklearn.feature_extraction.text import CountVectorizer\n",
    "from sklearn.pipeline import Pipeline\n",
    "import numpy as np\n",
    "\n",
    "# from nltk.corpus import stopwords\n",
    "# stop = list(stopwords.words('english'))\n",
    "# stop.extend('systems system develop developed development 0s 10 100basetx 10base2 10base5 10baset11 12 13 14 15 16 1st 2000 2221 2d 2nd 32 3d 500 74 8580 10baset 11'.split())\n",
    "\n",
    "\n",
    "\n",
    "# vectorizer = TfidfVectorizer(analyzer = 'word',stop_words=set(stop))\n",
    "vectorizer = TfidfVectorizer(analyzer = 'word')\n",
    "X= vectorizer.fit_transform(df['Description'].values.astype('U'))\n",
    "print (vectorizer.get_feature_names())\n"
   ]
  },
  {
   "cell_type": "code",
   "execution_count": 8,
   "metadata": {},
   "outputs": [
    {
     "name": "stdout",
     "output_type": "stream",
     "text": [
      "  (0, 1611)\t0.227905267464799\n",
      "  (0, 1066)\t0.21040320703615553\n",
      "  (0, 960)\t0.2784928293856573\n",
      "  (0, 1266)\t0.3806648477892402\n",
      "  (0, 1186)\t0.3806648477892402\n",
      "  (0, 1516)\t0.20402118450405005\n",
      "  (0, 558)\t0.32432789959128255\n",
      "  (0, 1391)\t0.33721532864473447\n",
      "  (0, 1187)\t0.3544696586391323\n",
      "  (0, 1720)\t0.27193752129106674\n",
      "  (0, 1276)\t0.27621333854881525\n",
      "  (1, 392)\t0.2138333672608112\n",
      "  (1, 1112)\t0.21090947796986048\n",
      "  (1, 35)\t0.1754421508839329\n",
      "  (1, 1371)\t0.3230112479700844\n",
      "  (1, 372)\t0.26360466345877454\n",
      "  (1, 1869)\t0.30373729328319743\n",
      "  (1, 1848)\t0.460847598653598\n",
      "  (1, 391)\t0.2830857051759412\n",
      "  (1, 879)\t0.2123453109078686\n",
      "  (1, 1183)\t0.1574909317434942\n",
      "  (1, 280)\t0.19293189475631473\n",
      "  (1, 457)\t0.1498401175258368\n",
      "  (1, 1052)\t0.230423799326799\n",
      "  (1, 1703)\t0.19115261268964265\n",
      "  :\t:\n",
      "  (1842, 1038)\t0.11924866334914427\n",
      "  (1842, 49)\t0.031236223738833047\n",
      "  (1842, 1304)\t0.04434567878434041\n",
      "  (1842, 418)\t0.02652374046779309\n",
      "  (1842, 569)\t0.028023464113630044\n",
      "  (1842, 1791)\t0.062466495614640107\n",
      "  (1843, 116)\t0.5335601123667447\n",
      "  (1843, 1517)\t0.4128194035108584\n",
      "  (1843, 1518)\t0.69484171110288\n",
      "  (1843, 569)\t0.24917612864748448\n",
      "  (1844, 471)\t1.0\n",
      "  (1845, 824)\t1.0\n",
      "  (1846, 1481)\t0.24893012135708295\n",
      "  (1846, 661)\t0.24893012135708295\n",
      "  (1846, 390)\t0.24893012135708295\n",
      "  (1846, 131)\t0.24893012135708295\n",
      "  (1846, 806)\t0.24893012135708295\n",
      "  (1846, 1490)\t0.4978602427141659\n",
      "  (1846, 801)\t0.24893012135708295\n",
      "  (1846, 805)\t0.24893012135708295\n",
      "  (1846, 800)\t0.24893012135708295\n",
      "  (1846, 1382)\t0.20558156147487913\n",
      "  (1846, 1844)\t0.4014849529443927\n",
      "  (1846, 418)\t0.09843266927072368\n",
      "  (1846, 569)\t0.20799663443143732\n"
     ]
    }
   ],
   "source": [
    "print (X)"
   ]
  },
  {
   "cell_type": "markdown",
   "metadata": {},
   "source": [
    "# SVM Training"
   ]
  },
  {
   "cell_type": "code",
   "execution_count": 9,
   "metadata": {},
   "outputs": [
    {
     "name": "stdout",
     "output_type": "stream",
     "text": [
      "  (0, 757)\t0.08764862569362857\n",
      "  (0, 1818)\t0.11794519226581764\n",
      "  (0, 470)\t0.1423075877386986\n",
      "  (0, 182)\t0.1423075877386986\n",
      "  (0, 915)\t0.1423075877386986\n",
      "  (0, 815)\t0.11874814144365951\n",
      "  (0, 1250)\t0.11364223684867418\n",
      "  (0, 1580)\t0.12644719942194782\n",
      "  (0, 144)\t0.1423075877386986\n",
      "  (0, 655)\t0.1423075877386986\n",
      "  (0, 917)\t0.1381357599215088\n",
      "  (0, 912)\t0.1423075877386986\n",
      "  (0, 974)\t0.12885802750933367\n",
      "  (0, 916)\t0.1423075877386986\n",
      "  (0, 1531)\t0.1423075877386986\n",
      "  (0, 1607)\t0.17446516651626193\n",
      "  (0, 913)\t0.11794519226581764\n",
      "  (0, 8)\t0.2846151754773972\n",
      "  (0, 627)\t0.1423075877386986\n",
      "  (0, 233)\t0.11794519226581764\n",
      "  (0, 401)\t0.11794519226581764\n",
      "  (0, 995)\t0.1423075877386986\n",
      "  (0, 1030)\t0.10502778866249053\n",
      "  (0, 1600)\t0.1423075877386986\n",
      "  (0, 419)\t0.1423075877386986\n",
      "  :\t:\n",
      "  (551, 532)\t0.45987895501877685\n",
      "  (551, 1181)\t0.2280648922826106\n",
      "  (551, 285)\t0.1922505847271502\n",
      "  (551, 49)\t0.35013870862926455\n",
      "  (552, 1036)\t0.18899997887431197\n",
      "  (552, 1412)\t0.21131701944931386\n",
      "  (552, 1019)\t0.15024250769621633\n",
      "  (552, 55)\t0.2091937469088639\n",
      "  (552, 1366)\t0.6875154268889007\n",
      "  (552, 1698)\t0.11864738924806889\n",
      "  (552, 1224)\t0.18782060501143436\n",
      "  (552, 1740)\t0.3123608647918546\n",
      "  (552, 1576)\t0.17199278132459903\n",
      "  (552, 1704)\t0.4107261545843442\n",
      "  (552, 1304)\t0.16149622182053006\n",
      "  (552, 418)\t0.09659303886018065\n",
      "  (553, 1454)\t0.3163107375281945\n",
      "  (553, 1802)\t0.3163107375281945\n",
      "  (553, 760)\t0.3163107375281945\n",
      "  (553, 722)\t0.30718624451667337\n",
      "  (553, 578)\t0.2974608119401915\n",
      "  (553, 757)\t0.22673577739023199\n",
      "  (553, 1726)\t0.6154101761707916\n",
      "  (553, 877)\t0.2457896964210422\n",
      "  (553, 569)\t0.16261874419226036\n"
     ]
    }
   ],
   "source": [
    "from sklearn import svm\n",
    "from sklearn.model_selection import train_test_split\n",
    "\n",
    "\n",
    "#splitting the trainining \n",
    "X_train, X_test, y_train, y_test = train_test_split(X, df['Study Program'], test_size=0.7, random_state=42)\n",
    "\n",
    "print (X_train)\n"
   ]
  },
  {
   "cell_type": "code",
   "execution_count": 10,
   "metadata": {},
   "outputs": [
    {
     "data": {
      "text/plain": [
       "SVC(kernel='linear')"
      ]
     },
     "execution_count": 10,
     "metadata": {},
     "output_type": "execute_result"
    }
   ],
   "source": [
    "clf_svm=svm.SVC(kernel='linear')\n",
    "\n",
    "\n",
    "\n",
    "#clf_svm.fit(X_train, y_train)\n",
    "clf_svm.fit(X, df['Study Program'])"
   ]
  },
  {
   "cell_type": "code",
   "execution_count": 11,
   "metadata": {},
   "outputs": [
    {
     "data": {
      "text/plain": [
       "0.26218097447795824"
      ]
     },
     "execution_count": 11,
     "metadata": {},
     "output_type": "execute_result"
    }
   ],
   "source": [
    "clf_svm.score(X_test, y_test)"
   ]
  },
  {
   "cell_type": "code",
   "execution_count": 12,
   "metadata": {},
   "outputs": [
    {
     "name": "stdout",
     "output_type": "stream",
     "text": [
      "['B.Sc. Applied Computer Sience  PO19 - B-AI-19']\n"
     ]
    }
   ],
   "source": [
    "W = vectorizer.transform([\"IT engineer digital technology principles circuit design computer architecture basic programming and operating systems\"])\n",
    "prediction = clf_svm.predict(W)\n",
    "print(prediction)"
   ]
  },
  {
   "cell_type": "code",
   "execution_count": 13,
   "metadata": {},
   "outputs": [],
   "source": [
    "import pickle\n",
    "\n",
    "pickle.dump(clf_svm, open('svmDegreePredictor.pkl','wb'))\n",
    "pickle.dump(vectorizer, open(\"vectorizer.pkl\", \"wb\"))"
   ]
  },
  {
   "cell_type": "code",
   "execution_count": null,
   "metadata": {},
   "outputs": [],
   "source": []
  },
  {
   "cell_type": "code",
   "execution_count": null,
   "metadata": {},
   "outputs": [],
   "source": []
  }
 ],
 "metadata": {
  "kernelspec": {
   "display_name": "Python 3",
   "language": "python",
   "name": "python3"
  },
  "language_info": {
   "codemirror_mode": {
    "name": "ipython",
    "version": 3
   },
   "file_extension": ".py",
   "mimetype": "text/x-python",
   "name": "python",
   "nbconvert_exporter": "python",
   "pygments_lexer": "ipython3",
   "version": "3.8.5"
  }
 },
 "nbformat": 4,
 "nbformat_minor": 4
}
